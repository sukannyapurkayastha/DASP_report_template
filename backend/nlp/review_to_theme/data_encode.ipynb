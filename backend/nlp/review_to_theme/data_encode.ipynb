{
 "cells": [
  {
   "cell_type": "code",
   "execution_count": null,
   "metadata": {},
   "outputs": [
    {
     "name": "stdout",
     "output_type": "stream",
     "text": [
      "Index(['sentence', 'aspect', 'theme', 'description', 'ANA', 'BIB', 'DAT',\n",
      "       'EXP', 'INT', 'MET', 'OAL', 'PDI', 'RES', 'RWK', 'TNF'],\n",
      "      dtype='object')\n"
     ]
    }
   ],
   "source": [
    "import pandas as pd\n",
    "from sklearn.preprocessing import MultiLabelBinarizer\n",
    "\n",
    "df = pd.read_csv('data.csv')\n",
    "df['theme'] = df['theme'].apply(lambda x: x.split('_'))\n",
    "\n",
    "# Step 3: Initialize MultiLabelBinarizer\n",
    "mlb = MultiLabelBinarizer()\n",
    "\n",
    "# Step 4: One-hot encode the themes\n",
    "encoded_labels = mlb.fit_transform(df['theme'])\n",
    "\n",
    "# Step 5: Create a DataFrame for the encoded labels\n",
    "df_encoded = pd.DataFrame(encoded_labels, columns=mlb.classes_)\n",
    "\n",
    "# Step 6: Convert the one-hot encoded columns back to a list of labels\n",
    "df['labels'] = df_encoded.values.tolist()\n",
    "\n",
    "# Step 6: Combine the original dataframe with the encoded labels\n",
    "df = pd.concat([df, df_encoded], axis=1)\n",
    "\n",
    "# Step 7: Print the processed DataFrame\n",
    "print(df.columns)\n",
    "\n",
    "df.to_csv('data_encoded.csv', index=False)"
   ]
  },
  {
   "cell_type": "code",
   "execution_count": 3,
   "metadata": {},
   "outputs": [
    {
     "name": "stdout",
     "output_type": "stream",
     "text": [
      "ANA     45\n",
      "BIB     17\n",
      "DAT    124\n",
      "EXP    261\n",
      "INT     13\n",
      "MET    937\n",
      "OAL    121\n",
      "PDI     38\n",
      "RES    165\n",
      "RWK    227\n",
      "TNF    108\n",
      "dtype: int64\n"
     ]
    }
   ],
   "source": [
    "# Calculate the frequency of each label\n",
    "label_counts = df_encoded.sum(axis=0)\n",
    "\n",
    "# Print the counts for each label\n",
    "print(label_counts)"
   ]
  },
  {
   "cell_type": "code",
   "execution_count": null,
   "metadata": {},
   "outputs": [],
   "source": [
    "from sklearn.model_selection import train_test_split\n",
    "df_train = df[['sentence', 'labels']]\n",
    "from datasets import Dataset\n",
    "# Convert DataFrame to Dataset\n",
    "dataset = Dataset.from_pandas(df)\n",
    "# Split DataFrame into train and test sets\n",
    "X_train, X_test, y_train, y_test = train_test_split(\n",
    "    df_train['sentence'],  # Input column\n",
    "    df_train['labels'],    # Labels column\n",
    "    test_size=0.2,   # Proportion of data for the test set\n",
    "    random_state=42  # For reproducibility\n",
    ")"
   ]
  },
  {
   "cell_type": "code",
   "execution_count": null,
   "metadata": {},
   "outputs": [],
   "source": [
    "from transformers import BertTokenizer, BertForSequenceClassification\n",
    "from torch.nn import BCEWithLogitsLoss\n",
    "import torch\n",
    "from sklearn.metrics import f1_score, accuracy_score\n",
    "\n",
    "num_themes = 11\n",
    "# Load the pretrained MLM model\n",
    "model = BertForSequenceClassification.from_pretrained(\"../../JitsuPEER_data_and_models_v1/models/bert-base-uncased_neg\", num_labels=num_themes, problem_type=\"multi_label_classification\")\n",
    "# Initialize the tokenizer\n",
    "tokenizer = BertTokenizer.from_pretrained(\"bert-base-uncased\")\n",
    "\n",
    "# Tokenize your dataset\n",
    "def tokenize_function(examples):\n",
    "    return tokenizer(examples[\"text\"], truncation=True, padding=\"max_length\", max_length=128)\n",
    "\n",
    "# Assuming dataset has columns 'text' and 'labels' (labels should be a binary vector per example)\n",
    "tokenized_datasets = dataset.map(tokenize_function, batched=True)\n",
    "\n",
    "# Convert dataset to PyTorch tensors\n",
    "tokenized_datasets = tokenized_datasets.with_format(\"torch\")\n",
    "\n",
    "# Custom loss function for multi-label classification\n",
    "class CustomBERTModel(torch.nn.Module):\n",
    "    def __init__(self, base_model, num_labels):\n",
    "        super(CustomBERTModel, self).__init__()\n",
    "        self.bert = base_model\n",
    "        self.classifier = torch.nn.Linear(self.bert.config.hidden_size, num_labels)\n",
    "\n",
    "    def forward(self, input_ids, attention_mask=None, labels=None):\n",
    "        outputs = self.bert(input_ids, attention_mask=attention_mask)\n",
    "        logits = self.classifier(outputs.pooler_output)  # Pooler output for classification\n",
    "        loss = None\n",
    "        if labels is not None:\n",
    "            loss_fn = BCEWithLogitsLoss()\n",
    "            loss = loss_fn(logits, labels.float())\n",
    "        return {\"loss\": loss, \"logits\": logits}\n",
    "\n",
    "# Wrap your fine-tuned model\n",
    "model = CustomBERTModel(model, num_labels=num_themes)\n",
    "\n",
    "# Training arguments\n",
    "training_args = TrainingArguments(\n",
    "    output_dir=\"./classification_results\",\n",
    "    evaluation_strategy=\"epoch\",\n",
    "    learning_rate=2e-5,\n",
    "    per_device_train_batch_size=16,\n",
    "    num_train_epochs=10,\n",
    "    weight_decay=0.01,\n",
    "    save_total_limit=2,\n",
    "    logging_dir=\"./logs\",\n",
    ")\n",
    "\n",
    "# Define metrics\n",
    "def compute_metrics(eval_pred):\n",
    "    logits, labels = eval_pred\n",
    "    preds = torch.sigmoid(torch.tensor(logits)).numpy() > 0.5\n",
    "    f1 = f1_score(labels, preds, average=\"weighted\")\n",
    "    acc = accuracy_score(labels, preds)\n",
    "    return {\"f1\": f1, \"accuracy\": acc}\n",
    "\n",
    "# Trainer for classification\n",
    "trainer = Trainer(\n",
    "    model=model,\n",
    "    args=training_args,\n",
    "    train_dataset=tokenized_datasets[\"train\"],\n",
    "    eval_dataset=tokenized_datasets[\"validation\"],\n",
    "    compute_metrics=compute_metrics,\n",
    ")\n",
    "\n",
    "# Fine-tune the model\n",
    "trainer.train()\n",
    "\n",
    "# Save the fine-tuned model\n",
    "trainer.save_model(\"./theme_classification_model\")"
   ]
  }
 ],
 "metadata": {
  "kernelspec": {
   "display_name": "jitsupeer_310",
   "language": "python",
   "name": "python3"
  },
  "language_info": {
   "codemirror_mode": {
    "name": "ipython",
    "version": 3
   },
   "file_extension": ".py",
   "mimetype": "text/x-python",
   "name": "python",
   "nbconvert_exporter": "python",
   "pygments_lexer": "ipython3",
   "version": "3.10.15"
  }
 },
 "nbformat": 4,
 "nbformat_minor": 2
}
