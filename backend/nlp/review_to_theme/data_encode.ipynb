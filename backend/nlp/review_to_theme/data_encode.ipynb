{
 "cells": [
  {
   "cell_type": "code",
   "execution_count": null,
   "metadata": {},
   "outputs": [
    {
     "name": "stdout",
     "output_type": "stream",
     "text": [
      "Index(['sentence', 'aspect', 'theme', 'description', 'ANA', 'BIB', 'DAT',\n",
      "       'EXP', 'INT', 'MET', 'OAL', 'PDI', 'RES', 'RWK', 'TNF'],\n",
      "      dtype='object')\n"
     ]
    }
   ],
   "source": [
    "import pandas as pd\n",
    "from sklearn.preprocessing import MultiLabelBinarizer\n",
    "\n",
    "df = pd.read_csv('data.csv')\n",
    "df['theme'] = df['theme'].apply(lambda x: x.split('_'))\n",
    "\n",
    "# Step 3: Initialize MultiLabelBinarizer\n",
    "mlb = MultiLabelBinarizer()\n",
    "\n",
    "# Step 4: One-hot encode the themes\n",
    "encoded_labels = mlb.fit_transform(df['theme'])\n",
    "\n",
    "# Step 5: Create a DataFrame for the encoded labels\n",
    "df_encoded = pd.DataFrame(encoded_labels, columns=mlb.classes_)\n",
    "\n",
    "# Step 6: Convert the one-hot encoded columns back to a list of labels\n",
    "df['labels'] = df_encoded.values.tolist()\n",
    "\n",
    "# Step 6: Combine the original dataframe with the encoded labels\n",
    "df = pd.concat([df, df_encoded], axis=1)\n",
    "\n",
    "# Step 7: Print the processed DataFrame\n",
    "print(df.columns)\n",
    "\n",
    "df.to_csv('data_encoded.csv', index=False)"
   ]
  },
  {
   "cell_type": "code",
   "execution_count": 3,
   "metadata": {},
   "outputs": [
    {
     "name": "stdout",
     "output_type": "stream",
     "text": [
      "ANA     45\n",
      "BIB     17\n",
      "DAT    124\n",
      "EXP    261\n",
      "INT     13\n",
      "MET    937\n",
      "OAL    121\n",
      "PDI     38\n",
      "RES    165\n",
      "RWK    227\n",
      "TNF    108\n",
      "dtype: int64\n"
     ]
    }
   ],
   "source": [
    "# Calculate the frequency of each label\n",
    "label_counts = df_encoded.sum(axis=0)\n",
    "\n",
    "# Print the counts for each label\n",
    "print(label_counts)"
   ]
  }
 ],
 "metadata": {
  "kernelspec": {
   "display_name": "nlp_lab",
   "language": "python",
   "name": "python3"
  },
  "language_info": {
   "codemirror_mode": {
    "name": "ipython",
    "version": 3
   },
   "file_extension": ".py",
   "mimetype": "text/x-python",
   "name": "python",
   "nbconvert_exporter": "python",
   "pygments_lexer": "ipython3",
   "version": "3.10.15"
  }
 },
 "nbformat": 4,
 "nbformat_minor": 2
}
