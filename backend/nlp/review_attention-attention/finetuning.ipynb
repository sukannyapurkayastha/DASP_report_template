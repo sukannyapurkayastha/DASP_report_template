{
 "cells": [
  {
   "cell_type": "code",
   "execution_count": 1,
   "metadata": {},
   "outputs": [
    {
     "name": "stdout",
     "output_type": "stream",
     "text": [
      "WARNING:tensorflow:From c:\\Users\\carme\\miniconda3\\Lib\\site-packages\\tf_keras\\src\\losses.py:2976: The name tf.losses.sparse_softmax_cross_entropy is deprecated. Please use tf.compat.v1.losses.sparse_softmax_cross_entropy instead.\n",
      "\n"
     ]
    }
   ],
   "source": [
    "from transformers import DistilBertTokenizer\n",
    "from transformers import TFDistilBertForSequenceClassification\n",
    "# import tensorflow as tf\n",
    "import pandas as pd"
   ]
  },
  {
   "cell_type": "code",
   "execution_count": 8,
   "metadata": {},
   "outputs": [
    {
     "ename": "FileNotFoundError",
     "evalue": "[WinError 3] Das System kann den angegebenen Pfad nicht finden: '\\\\data'",
     "output_type": "error",
     "traceback": [
      "\u001b[1;31m---------------------------------------------------------------------------\u001b[0m",
      "\u001b[1;31mFileNotFoundError\u001b[0m                         Traceback (most recent call last)",
      "Cell \u001b[1;32mIn[8], line 11\u001b[0m\n\u001b[0;32m      8\u001b[0m data \u001b[38;5;241m=\u001b[39m []\n\u001b[0;32m     10\u001b[0m \u001b[38;5;66;03m# Durchlaufe alle Unterverzeichnisse im Root-Verzeichnis\u001b[39;00m\n\u001b[1;32m---> 11\u001b[0m \u001b[38;5;28;01mfor\u001b[39;00m attitude_root \u001b[38;5;129;01min\u001b[39;00m \u001b[43mos\u001b[49m\u001b[38;5;241;43m.\u001b[39;49m\u001b[43mlistdir\u001b[49m\u001b[43m(\u001b[49m\u001b[43mroot_dir\u001b[49m\u001b[43m)\u001b[49m:\n\u001b[0;32m     12\u001b[0m     attitude_path \u001b[38;5;241m=\u001b[39m os\u001b[38;5;241m.\u001b[39mpath\u001b[38;5;241m.\u001b[39mjoin(root_dir, attitude_root)\n\u001b[0;32m     13\u001b[0m     \u001b[38;5;66;03m# Prüfe, ob es sich um ein Verzeichnis handelt\u001b[39;00m\n",
      "\u001b[1;31mFileNotFoundError\u001b[0m: [WinError 3] Das System kann den angegebenen Pfad nicht finden: '\\\\data'"
     ]
    }
   ],
   "source": [
    "import os\n",
    "import pandas as pd\n",
    "\n",
    "# Pfad zum Verzeichnis, das die Attitude Roots enthält\n",
    "root_dir = r'\\data'  \n",
    "\n",
    "# Liste für die Ergebnisse\n",
    "data = []\n",
    "\n",
    "# Durchlaufe alle Unterverzeichnisse im Root-Verzeichnis\n",
    "for attitude_root in os.listdir(root_dir):\n",
    "    attitude_path = os.path.join(root_dir, attitude_root)\n",
    "    # Prüfe, ob es sich um ein Verzeichnis handelt\n",
    "    if os.path.isdir(attitude_path):\n",
    "        review_path = os.path.join(attitude_path, 'review')\n",
    "        # Prüfe, ob der 'review'-Ordner existiert\n",
    "        if os.path.exists(review_path):\n",
    "            # Durchlaufe alle Dateien im 'review'-Ordner\n",
    "            for filename in os.listdir(review_path):\n",
    "                file_path = os.path.join(review_path, filename)\n",
    "                # Nur Dateien berücksichtigen\n",
    "                if os.path.isfile(file_path):\n",
    "                    with open(file_path, 'r', encoding='utf-8') as file:\n",
    "                        content = file.read()\n",
    "                        # Sätze durch Zeilenumbrüche getrennt\n",
    "                        sentences = content.strip().split('\\n')\n",
    "                        for sentence in sentences:\n",
    "                            # Überspringe leere Zeilen\n",
    "                            if sentence.strip():\n",
    "                                data.append({\n",
    "                                    'Satz': sentence.strip(),\n",
    "                                    'Label': attitude_root\n",
    "                                })\n",
    "\n",
    "df = pd.DataFrame(data)\n",
    "\n",
    "print(df)\n"
   ]
  },
  {
   "cell_type": "code",
   "execution_count": null,
   "metadata": {},
   "outputs": [
    {
     "ename": "",
     "evalue": "",
     "output_type": "error",
     "traceback": [
      "\u001b[1;31mRunning cells with '.conda (Python 3.11.10)' requires the ipykernel package.\n",
      "\u001b[1;31mRun the following command to install 'ipykernel' into the Python environment. \n",
      "\u001b[1;31mCommand: 'conda install -p c:\\Users\\carme\\OneDrive - Appelt Steuerberatung\\Carmen Appelt\\Master\\Semester 3\\DASP\\Code\\DAISERI\\DISAPERE\\.conda ipykernel --update-deps --force-reinstall'"
     ]
    }
   ],
   "source": [
    "df = x\n",
    "df[‘labels’].unique()\n",
    "\n",
    "\n"
   ]
  },
  {
   "cell_type": "code",
   "execution_count": null,
   "metadata": {},
   "outputs": [],
   "source": [
    "#Encode label for easy identification.\n",
    " df[‘encoded_cat’] = df[‘labels’].astype(‘category’).cat.codes\n",
    " print(df.head())\n",
    "\n",
    " data_texts = df[“data”].to_list() # Features (not tokenized yet)\n",
    " data_labels = df[“encoded_cat”].to_list() # Labels"
   ]
  },
  {
   "cell_type": "code",
   "execution_count": null,
   "metadata": {},
   "outputs": [],
   "source": [
    "tokenizer = DistilBertTokenizer.from_pretrained('distilbert-base-uncased')\n",
    "train_encodings = tokenizer(train_texts, truncation=True, padding=True)\n",
    "val_encodings = tokenizer(val_texts, truncation=True, padding=True)"
   ]
  },
  {
   "cell_type": "code",
   "execution_count": null,
   "metadata": {},
   "outputs": [],
   "source": [
    "train_dataset = tf.data.Dataset.from_tensor_slices((\n",
    "dict(train_encodings),\n",
    "train_labels\n",
    "))\n",
    "val_dataset = tf.data.Dataset.from_tensor_slices((\n",
    "dict(val_encodings),\n",
    "val_labels\n",
    "))"
   ]
  },
  {
   "cell_type": "code",
   "execution_count": null,
   "metadata": {},
   "outputs": [],
   "source": [
    "model = TFDistilBertForSequenceClassification.from_pretrained('distilbert-base-uncased', num_labels=5)\n",
    " \n",
    "optimizer = tf.keras.optimizers.Adam(learning_rate=5e-5, epsilon=1e-08)\n",
    "model.compile(optimizer=optimizer, loss=model.hf_compute_loss, metrics=['accuracy'])"
   ]
  },
  {
   "cell_type": "code",
   "execution_count": null,
   "metadata": {},
   "outputs": [],
   "source": [
    "#from tensorflow.keras.callbacks import EarlyStopping\n",
    " \n",
    "early_stopping = tf.keras.callbacks.EarlyStopping(monitor='val_loss', patience=3, restore_best_weights=True)\n",
    " \n",
    "model.fit(train_dataset.shuffle(1000).batch(16),\n",
    "epochs=2,\n",
    "batch_size=16,\n",
    "validation_data=val_dataset.shuffle(1000).batch(16),\n",
    "callbacks=[early_stopping])"
   ]
  },
  {
   "cell_type": "code",
   "execution_count": null,
   "metadata": {},
   "outputs": [],
   "source": [
    "from tensorflow.keras.models import load_model\n",
    "save_directory = \"Multitext_Classification_colab\" # Change this to your preferred location\n",
    " \n",
    "model.save_pretrained(save_directory)\n",
    "tokenizer.save_pretrained(save_directory)"
   ]
  },
  {
   "cell_type": "code",
   "execution_count": null,
   "metadata": {},
   "outputs": [],
   "source": [
    "# Evaluate\n",
    "\n",
    "save_directory = \"Multitext_Classification_2\"\n",
    "loaded_tokenizer = DistilBertTokenizer.from_pretrained(save_directory)\n",
    "loaded_model = TFDistilBertForSequenceClassification.from_pretrained(save_directory)\n",
    "\n"
   ]
  }
 ],
 "metadata": {
  "kernelspec": {
   "display_name": "base",
   "language": "python",
   "name": "python3"
  },
  "language_info": {
   "codemirror_mode": {
    "name": "ipython",
    "version": 3
   },
   "file_extension": ".py",
   "mimetype": "text/x-python",
   "name": "python",
   "nbconvert_exporter": "python",
   "pygments_lexer": "ipython3",
   "version": "3.11.5"
  }
 },
 "nbformat": 4,
 "nbformat_minor": 2
}
