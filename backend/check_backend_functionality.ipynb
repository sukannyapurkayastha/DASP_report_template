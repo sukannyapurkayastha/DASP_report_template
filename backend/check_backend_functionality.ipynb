{
 "cells": [
  {
   "cell_type": "code",
   "execution_count": 2,
   "metadata": {},
   "source": [
    "from model_prediction import combine_roots_and_themes\n",
    "import pandas as pd\n",
    "\n",
    "# Read the CSV file into a DataFrame\n",
    "input = pd.read_csv('sentences_author.csv')\n",
    "input = input.sample(n=20, random_state=42)\n",
    "print(input)"
   ],
   "outputs": []
  },
  {
   "cell_type": "code",
   "execution_count": null,
   "metadata": {},
   "source": [
    "results = combine_roots_and_themes(input)\n",
    "results"
   ],
   "outputs": []
  },
  {
   "cell_type": "code",
   "execution_count": 7,
   "metadata": {},
   "source": [
    "results.to_csv('attitude_roots_themes.csv', index=False)"
   ],
   "outputs": []
  },
  {
   "cell_type": "code",
   "execution_count": 7,
   "metadata": {},
   "source": [
    "def create_clusters(row):\n",
    "    # Extract root and themes\n",
    "    root = row[\"attitude_root\"]\n",
    "    themes = row[\"attitude_themes\"]\n",
    "    \n",
    "    # Combine root with each theme\n",
    "    clusters = [f\"{root}({theme})\" for theme in themes]\n",
    "    return clusters\n",
    "\n",
    "df = results\n",
    "df.loc[:, \"clusters\"] = df.apply(create_clusters, axis=1)\n",
    "df = df.explode(\"clusters\", ignore_index=True)"
   ],
   "outputs": []
  },
  {
   "cell_type": "code",
   "execution_count": 8,
   "metadata": {},
   "source": [
    "df"
   ],
   "outputs": []
  },
  {
   "cell_type": "code",
   "execution_count": 14,
   "metadata": {},
   "source": [
    "# Group by 'author' and 'clusters', and aggregate the sentences into a list\n",
    "aggregated_df = df.groupby(['clusters', 'author'])['sentence'].apply(list).reset_index()\n",
    "aggregated_df"
   ],
   "outputs": []
  },
  {
   "cell_type": "code",
   "execution_count": 16,
   "metadata": {},
   "source": [
    "final_df = aggregated_df.groupby('clusters').agg(\n",
    "            comments=('sentence', lambda x: [[author, sentences] for author, sentences in zip(aggregated_df['author'], x)])\n",
    "        ).reset_index()"
   ],
   "outputs": []
  },
  {
   "cell_type": "code",
   "execution_count": 17,
   "metadata": {},
   "source": [
    "final_df"
   ],
   "outputs": []
  }
 ],
 "metadata": {
  "kernelspec": {
   "display_name": "jitsupeer_310",
   "language": "python",
   "name": "python3"
  },
  "language_info": {
   "codemirror_mode": {
    "name": "ipython",
    "version": 3
   },
   "file_extension": ".py",
   "mimetype": "text/x-python",
   "name": "python",
   "nbconvert_exporter": "python",
   "pygments_lexer": "ipython3",
   "version": "3.10.15"
  }
 },
 "nbformat": 4,
 "nbformat_minor": 2
}
