{
 "cells": [
  {
   "cell_type": "code",
   "execution_count": 1,
   "metadata": {},
   "outputs": [],
   "source": [
    "import pandas as pd"
   ]
  },
  {
   "cell_type": "code",
   "execution_count": 2,
   "metadata": {},
   "outputs": [],
   "source": [
    "data = pd.read_csv(\"attitude_roots_themes.csv\")"
   ]
  },
  {
   "cell_type": "code",
   "execution_count": 12,
   "metadata": {},
   "outputs": [
    {
     "data": {
      "text/plain": [
       "'[[\\'Reviewer eS3u\\', [\"4. The whole method is mainly built upon the existing SO(3)-equivariant representation. The main contribution lies in introducing this representation to the specific task. I didn\\'t get too much novel insight in terms of network design.\"]], [\\'Reviewer wiS9\\', [\\'2) The idea of factorizing point cloud descriptors into SO(3)-equivariant global shape descriptor and dynamic SO(3)-invariant point-wise local shape transforms seems to be novel.\\']], [\\'Reviewer Frem\\', [\\'1. The novelty of this work seems insufficient for ICLR. The whole pipeline heavily relies on VNNs and the main contribution I personally consider is the local shape transform and the self-supervised mechanism for correspondences.\\']]]'"
      ]
     },
     "execution_count": 12,
     "metadata": {},
     "output_type": "execute_result"
    }
   ],
   "source": [
    "data['Comments'][4]"
   ]
  },
  {
   "cell_type": "code",
   "execution_count": 7,
   "metadata": {},
   "outputs": [
    {
     "data": {
      "text/plain": [
       "[['Reviewer eS3u',\n",
       "  ['The reason why other methods are much better than LSTNet under the setting of I/I should be clarified.']],\n",
       " ['Reviewer wiS9',\n",
       "  ['4. For the SO(3)-equivariant and -invariant methods, some works for point cloud registration [2, 3, 4, 5] should also be discussed.']]]"
      ]
     },
     "execution_count": 7,
     "metadata": {},
     "output_type": "execute_result"
    }
   ],
   "source": [
    "import ast\n",
    "\n",
    "# Given string\n",
    "data_str = \"\"\"[['Reviewer eS3u', ['The reason why other methods are much better than LSTNet under the setting of I/I should be clarified.']], \n",
    "               ['Reviewer wiS9', ['4. For the SO(3)-equivariant and -invariant methods, some works for point cloud registration [2, 3, 4, 5] should also be discussed.']]]\"\"\"\n",
    "\n",
    "# Convert string to list\n",
    "data_list = ast.literal_eval(data_str)\n",
    "data_list"
   ]
  },
  {
   "cell_type": "code",
   "execution_count": 13,
   "metadata": {},
   "outputs": [
    {
     "data": {
      "text/plain": [
       "['The reason why other methods are much better than LSTNet under the setting of I/I should be clarified.',\n",
       " '4. For the SO(3)-equivariant and -invariant methods, some works for point cloud registration [2, 3, 4, 5] should also be discussed.']"
      ]
     },
     "execution_count": 13,
     "metadata": {},
     "output_type": "execute_result"
    }
   ],
   "source": [
    "def extract_sentences(data):\n",
    "    \"\"\"\n",
    "    Extracts all sentences from a nested list while ignoring reviewer names.\n",
    "\n",
    "    :param data: List of lists where each sublist contains a reviewer name and a list of sentences.\n",
    "    :return: A flattened list of all sentences.\n",
    "    \"\"\"\n",
    "    return [sentence for item in data for sentence in item[1]]\n",
    "\n",
    "extract_sentences(data_list)"
   ]
  }
 ],
 "metadata": {
  "kernelspec": {
   "display_name": "jitsupeer_310",
   "language": "python",
   "name": "python3"
  },
  "language_info": {
   "codemirror_mode": {
    "name": "ipython",
    "version": 3
   },
   "file_extension": ".py",
   "mimetype": "text/x-python",
   "name": "python",
   "nbconvert_exporter": "python",
   "pygments_lexer": "ipython3",
   "version": "3.10.15"
  }
 },
 "nbformat": 4,
 "nbformat_minor": 2
}
