{
 "cells": [
  {
   "cell_type": "code",
   "execution_count": null,
   "metadata": {},
   "outputs": [],
   "source": [
    "import streamlit as st\n",
    "from streamlit_extras.stylable_container import stylable_container\n",
    "import os\n",
    "import pandas as pd\n",
    "import matplotlib.pyplot as plt\n",
    "import plotly.graph_objects as go\n",
    "\n"
   ]
  },
  {
   "cell_type": "code",
   "execution_count": 27,
   "metadata": {},
   "outputs": [],
   "source": [
    "import pandas as pd\n",
    "\n",
    "# Erstellen des DataFrames mit erweiterten Daten\n",
    "requests = {\n",
    "    'Request Information': ['Explanation', 'Typo', 'Suggestion', 'Clarification', 'Error Report'],\n",
    "    'Frequency': [1/3, 2/3, 1/3, 3/3, 1/3],\n",
    "    'Comments': [\n",
    "        [\n",
    "            [\"Autor1\", [\"Ausgezeichnete Arbeit.\", \"Sehr gut strukturiert.\"]],\n",
    "            [\"Autor2\", [\"Informativ.\", \"Gute Referenzen.\"]],\n",
    "            [\"Autor5\", [\"Interessantes Thema.\", \"Gute Ausführung.\"]]\n",
    "        ],\n",
    "        [\n",
    "            [\"Autor3\", [\"Unklare Argumentation.\", \"Mehr Daten erforderlich.\"]],\n",
    "            [\"Autor4\", [\"Nicht Überzeugend.\", \"Methodik fragwürdig.\", \"Naja\"]],\n",
    "            [\"Autor6\", [\"Rechtschreibfehler in Abschnitt 2.\", \"Formatierung inkonsistent.\"]]\n",
    "        ],\n",
    "        [\n",
    "            [\"Autor7\", [\"Sollten mehr Beispiele enthalten.\", \"Weitere Erklärungen notwendig.\"]],\n",
    "            [\"Autor8\", [\"Gute Vorschläge.\", \"Innovativer Ansatz.\"]],\n",
    "            [\"Autor9\", [\"Kann verbessert werden.\", \"Struktur überdenken.\"]]\n",
    "        ],\n",
    "        [\n",
    "            [\"Autor10\", [\"Bitte präzisieren Sie Ihre Aussage.\", \"Unklarheiten in Abschnitt 3.\"]],\n",
    "            [\"Autor11\", [\"Weitere Details benötigt.\", \"Definitionen fehlen.\"]],\n",
    "            [\"Autor12\", [\"Gute Klarstellung.\", \"Hilfreiche Ergänzungen.\"]]\n",
    "        ],\n",
    "        [\n",
    "            [\"Autor13\", [\"Fehler in der Datenanalyse.\", \"Statistische Methoden überprüfen.\"]],\n",
    "            [\"Autor14\", [\"Inkonsistente Ergebnisse.\", \"Bitte erneut prüfen.\"]],\n",
    "            [\"Autor15\", [\"Diagramme nicht lesbar.\", \"Beschriftungen fehlen.\"]]\n",
    "        ]\n",
    "    ]\n",
    "}\n",
    "\n"
   ]
  },
  {
   "cell_type": "code",
   "execution_count": 20,
   "metadata": {},
   "outputs": [],
   "source": [
    "\n",
    "# Rating bis 10; \n",
    "Overview = {\n",
    "    'Category': ['Rating', 'Soundness', 'Presentation', 'Contribution'],\n",
    "    'Avg_Score': [9, 2.5, 3, 1.3],\n",
    "    'Individual_scores':[\n",
    "        [\n",
    "            [\"Autor 1\", 10],\n",
    "            [\"Autor 2\", 8],\n",
    "            [\"Autor 3\", None]\n",
    "        ],\n",
    "        [\n",
    "            [\"Autor 1\", 1],\n",
    "            [\"Autor 2\", 4],\n",
    "            [\"Autor 3\", None]\n",
    "        ],\n",
    "        [\n",
    "            [\"Autor 1\", 1],\n",
    "            [\"Autor 2\", 4],\n",
    "            [\"Autor 3\", None]\n",
    "        ],\n",
    "        [\n",
    "            [\"Autor 1\", 2],\n",
    "            [\"Autor 2\", 4],\n",
    "            [\"Autor 3\", None]\n",
    "        ]\n",
    "        ] \n",
    "}"
   ]
  },
  {
   "cell_type": "code",
   "execution_count": 28,
   "metadata": {},
   "outputs": [],
   "source": [
    "attitude_roots = {\n",
    "    'Attitude_roots': ['Clarity (Overall)', 'Clarity (Method)', 'Originality(Experiments)', 'Clarity (Overall)', 'Originality(Experiments)'],\n",
    "    'Frequency': [1/3, 2/3, 1/3, 3/3, 1/3],\n",
    "    'Descriptions': ['The paper is not nicely written or rather easy to follow', 'Unclear description of method', 'Not enough novelty in experiments (seems similar to previous work)', 'Not enough novelty in experiments (seems similar to previous work)', 'Not enough novelty in experiments (seems similar to previous work)'],\n",
    "    'Comments': [\n",
    "        [\n",
    "            [\"Autor1\", [\"Ausgezeichnete Arbeit.\", \"Sehr gut strukturiert.\"]],\n",
    "            [\"Autor2\", [\"Informativ.\", \"Gute Referenzen.\"]],\n",
    "            [\"Autor5\", [\"Interessantes Thema.\", \"Gute Ausführung.\"]]\n",
    "        ],\n",
    "        [\n",
    "            [\"Autor3\", [\"Unklare Argumentation.\", \"Mehr Daten erforderlich.\"]],\n",
    "            [\"Autor4\", [\"Nicht Überzeugend.\", \"Methodik fragwürdig.\", \"Naja\"]],\n",
    "            [\"Autor6\", [\"Rechtschreibfehler in Abschnitt 2.\", \"Formatierung inkonsistent.\"]]\n",
    "        ],\n",
    "        [\n",
    "            [\"Autor7\", [\"Sollten mehr Beispiele enthalten.\", \"Weitere Erklärungen notwendig.\"]],\n",
    "            [\"Autor8\", [\"Gute Vorschläge.\", \"Innovativer Ansatz.\"]],\n",
    "            [\"Autor9\", [\"Kann verbessert werden.\", \"Struktur überdenken.\"]]\n",
    "        ],\n",
    "        [\n",
    "            [\"Autor10\", [\"Bitte präzisieren Sie Ihre Aussage.\", \"Unklarheiten in Abschnitt 3.\"]],\n",
    "            [\"Autor11\", [\"Weitere Details benötigt.\", \"Definitionen fehlen.\"]],\n",
    "            [\"Autor12\", [\"Gute Klarstellung.\", \"Hilfreiche Ergänzungen.\"]]\n",
    "        ],\n",
    "        [\n",
    "            [\"Autor13\", [\"Fehler in der Datenanalyse.\", \"Statistische Methoden überprüfen.\"]],\n",
    "            [\"Autor14\", [\"Inkonsistente Ergebnisse.\", \"Bitte erneut prüfen.\"]],\n",
    "            [\"Autor15\", [\"Diagramme nicht lesbar.\", \"Beschriftungen fehlen.\"]]\n",
    "        ]\n",
    "    ]\n",
    "}"
   ]
  },
  {
   "cell_type": "code",
   "execution_count": 29,
   "metadata": {},
   "outputs": [
    {
     "data": {
      "text/html": [
       "<div>\n",
       "<style scoped>\n",
       "    .dataframe tbody tr th:only-of-type {\n",
       "        vertical-align: middle;\n",
       "    }\n",
       "\n",
       "    .dataframe tbody tr th {\n",
       "        vertical-align: top;\n",
       "    }\n",
       "\n",
       "    .dataframe thead th {\n",
       "        text-align: right;\n",
       "    }\n",
       "</style>\n",
       "<table border=\"1\" class=\"dataframe\">\n",
       "  <thead>\n",
       "    <tr style=\"text-align: right;\">\n",
       "      <th></th>\n",
       "      <th>Category</th>\n",
       "      <th>Avg_Score</th>\n",
       "      <th>Individual_scores</th>\n",
       "    </tr>\n",
       "  </thead>\n",
       "  <tbody>\n",
       "    <tr>\n",
       "      <th>0</th>\n",
       "      <td>Rating</td>\n",
       "      <td>9.0</td>\n",
       "      <td>[[Autor 1, 10], [Autor 2, 8], [Autor 3, None]]</td>\n",
       "    </tr>\n",
       "    <tr>\n",
       "      <th>1</th>\n",
       "      <td>Soundness</td>\n",
       "      <td>2.5</td>\n",
       "      <td>[[Autor 1, 1], [Autor 2, 4], [Autor 3, None]]</td>\n",
       "    </tr>\n",
       "    <tr>\n",
       "      <th>2</th>\n",
       "      <td>Presentation</td>\n",
       "      <td>3.0</td>\n",
       "      <td>[[Autor 1, 1], [Autor 2, 4], [Autor 3, None]]</td>\n",
       "    </tr>\n",
       "    <tr>\n",
       "      <th>3</th>\n",
       "      <td>Contribution</td>\n",
       "      <td>1.3</td>\n",
       "      <td>[[Autor 1, 2], [Autor 2, 4], [Autor 3, None]]</td>\n",
       "    </tr>\n",
       "  </tbody>\n",
       "</table>\n",
       "</div>"
      ],
      "text/plain": [
       "       Category  Avg_Score                               Individual_scores\n",
       "0        Rating        9.0  [[Autor 1, 10], [Autor 2, 8], [Autor 3, None]]\n",
       "1     Soundness        2.5   [[Autor 1, 1], [Autor 2, 4], [Autor 3, None]]\n",
       "2  Presentation        3.0   [[Autor 1, 1], [Autor 2, 4], [Autor 3, None]]\n",
       "3  Contribution        1.3   [[Autor 1, 2], [Autor 2, 4], [Autor 3, None]]"
      ]
     },
     "execution_count": 29,
     "metadata": {},
     "output_type": "execute_result"
    }
   ],
   "source": [
    "import pandas as pd\n",
    "df_overview = pd.DataFrame(Overview)\n",
    "df_overview\n",
    "\n",
    "df_attitude_roots = pd.DataFrame(attitude_roots).sort_values(by='Frequency', ascending=False)\n",
    "df_attitude_roots\n",
    "\n",
    "\n",
    "df_requests = pd.DataFrame(requests).sort_values(by='Frequency', ascending=False)\n",
    "df_requests\n",
    "\n",
    "df_overview"
   ]
  },
  {
   "cell_type": "code",
   "execution_count": 30,
   "metadata": {},
   "outputs": [],
   "source": [
    "import pickle\n",
    "\n",
    "# Speichern des DataFrames als 'dataframe.pkl'\n",
    "with open(r'C:\\Users\\carme\\OneDrive - Appelt Steuerberatung\\Carmen Appelt\\Master\\Semester 3\\DASP\\Code\\DASP_report_template\\DASP_report_template\\frontend\\dummy_data\\dummy_requests.pkl', 'wb') as file:\n",
    "    pickle.dump(df_requests, file)\n",
    "\n",
    "with open(r'C:\\Users\\carme\\OneDrive - Appelt Steuerberatung\\Carmen Appelt\\Master\\Semester 3\\DASP\\Code\\DASP_report_template\\DASP_report_template\\frontend\\dummy_data\\dummy_attitude_roots.pkl', 'wb') as file:\n",
    "    pickle.dump(df_attitude_roots, file)\n",
    "\n",
    "with open(r'C:\\Users\\carme\\OneDrive - Appelt Steuerberatung\\Carmen Appelt\\Master\\Semester 3\\DASP\\Code\\DASP_report_template\\DASP_report_template\\frontend\\dummy_data\\dummy_overview.pkl', 'wb') as file:\n",
    "    pickle.dump(df_overview, file)"
   ]
  },
  {
   "cell_type": "code",
   "execution_count": 14,
   "metadata": {},
   "outputs": [
    {
     "ename": "FileNotFoundError",
     "evalue": "[Errno 2] No such file or directory: 'frontend\\\\dummy_data\\\\dummy_request_information.pkl'",
     "output_type": "error",
     "traceback": [
      "\u001b[1;31m---------------------------------------------------------------------------\u001b[0m",
      "\u001b[1;31mFileNotFoundError\u001b[0m                         Traceback (most recent call last)",
      "Cell \u001b[1;32mIn[14], line 1\u001b[0m\n\u001b[1;32m----> 1\u001b[0m \u001b[38;5;28;01mwith\u001b[39;00m \u001b[38;5;28;43mopen\u001b[39;49m\u001b[43m(\u001b[49m\u001b[43mos\u001b[49m\u001b[38;5;241;43m.\u001b[39;49m\u001b[43mpath\u001b[49m\u001b[38;5;241;43m.\u001b[39;49m\u001b[43mjoin\u001b[49m\u001b[43m(\u001b[49m\u001b[38;5;124;43m'\u001b[39;49m\u001b[38;5;124;43mfrontend\u001b[39;49m\u001b[38;5;124;43m'\u001b[39;49m\u001b[43m,\u001b[49m\u001b[43m \u001b[49m\u001b[38;5;124;43m'\u001b[39;49m\u001b[38;5;124;43mdummy_data\u001b[39;49m\u001b[38;5;124;43m'\u001b[39;49m\u001b[43m,\u001b[49m\u001b[43m \u001b[49m\u001b[38;5;124;43m'\u001b[39;49m\u001b[38;5;124;43mdummy_request_information.pkl\u001b[39;49m\u001b[38;5;124;43m'\u001b[39;49m\u001b[43m)\u001b[49m\u001b[43m,\u001b[49m\u001b[43m \u001b[49m\u001b[38;5;124;43m'\u001b[39;49m\u001b[38;5;124;43mrb\u001b[39;49m\u001b[38;5;124;43m'\u001b[39;49m\u001b[43m)\u001b[49m \u001b[38;5;28;01mas\u001b[39;00m file:\n\u001b[0;32m      2\u001b[0m     request_information \u001b[38;5;241m=\u001b[39m pickle\u001b[38;5;241m.\u001b[39mload(file)\n",
      "File \u001b[1;32mc:\\Users\\carme\\miniconda3\\Lib\\site-packages\\IPython\\core\\interactiveshell.py:286\u001b[0m, in \u001b[0;36m_modified_open\u001b[1;34m(file, *args, **kwargs)\u001b[0m\n\u001b[0;32m    279\u001b[0m \u001b[38;5;28;01mif\u001b[39;00m file \u001b[38;5;129;01min\u001b[39;00m {\u001b[38;5;241m0\u001b[39m, \u001b[38;5;241m1\u001b[39m, \u001b[38;5;241m2\u001b[39m}:\n\u001b[0;32m    280\u001b[0m     \u001b[38;5;28;01mraise\u001b[39;00m \u001b[38;5;167;01mValueError\u001b[39;00m(\n\u001b[0;32m    281\u001b[0m         \u001b[38;5;124mf\u001b[39m\u001b[38;5;124m\"\u001b[39m\u001b[38;5;124mIPython won\u001b[39m\u001b[38;5;124m'\u001b[39m\u001b[38;5;124mt let you open fd=\u001b[39m\u001b[38;5;132;01m{\u001b[39;00mfile\u001b[38;5;132;01m}\u001b[39;00m\u001b[38;5;124m by default \u001b[39m\u001b[38;5;124m\"\u001b[39m\n\u001b[0;32m    282\u001b[0m         \u001b[38;5;124m\"\u001b[39m\u001b[38;5;124mas it is likely to crash IPython. If you know what you are doing, \u001b[39m\u001b[38;5;124m\"\u001b[39m\n\u001b[0;32m    283\u001b[0m         \u001b[38;5;124m\"\u001b[39m\u001b[38;5;124myou can use builtins\u001b[39m\u001b[38;5;124m'\u001b[39m\u001b[38;5;124m open.\u001b[39m\u001b[38;5;124m\"\u001b[39m\n\u001b[0;32m    284\u001b[0m     )\n\u001b[1;32m--> 286\u001b[0m \u001b[38;5;28;01mreturn\u001b[39;00m \u001b[43mio_open\u001b[49m\u001b[43m(\u001b[49m\u001b[43mfile\u001b[49m\u001b[43m,\u001b[49m\u001b[43m \u001b[49m\u001b[38;5;241;43m*\u001b[39;49m\u001b[43margs\u001b[49m\u001b[43m,\u001b[49m\u001b[43m \u001b[49m\u001b[38;5;241;43m*\u001b[39;49m\u001b[38;5;241;43m*\u001b[39;49m\u001b[43mkwargs\u001b[49m\u001b[43m)\u001b[49m\n",
      "\u001b[1;31mFileNotFoundError\u001b[0m: [Errno 2] No such file or directory: 'frontend\\\\dummy_data\\\\dummy_request_information.pkl'"
     ]
    }
   ],
   "source": [
    "with open(os.path.join('frontend', 'dummy_data', 'dummy_request_information.pkl'), 'rb') as file:\n",
    "    request_information = pickle.load(file)\n"
   ]
  },
  {
   "cell_type": "code",
   "execution_count": null,
   "metadata": {},
   "outputs": [],
   "source": []
  },
  {
   "cell_type": "code",
   "execution_count": null,
   "metadata": {},
   "outputs": [],
   "source": []
  }
 ],
 "metadata": {
  "kernelspec": {
   "display_name": "base",
   "language": "python",
   "name": "python3"
  },
  "language_info": {
   "codemirror_mode": {
    "name": "ipython",
    "version": 3
   },
   "file_extension": ".py",
   "mimetype": "text/x-python",
   "name": "python",
   "nbconvert_exporter": "python",
   "pygments_lexer": "ipython3",
   "version": "3.11.5"
  }
 },
 "nbformat": 4,
 "nbformat_minor": 2
}
