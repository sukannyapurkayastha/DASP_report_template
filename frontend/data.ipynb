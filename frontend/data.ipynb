{
 "cells": [
  {
   "cell_type": "code",
   "execution_count": 6,
   "metadata": {},
   "outputs": [],
   "source": [
    "import streamlit as st\n",
    "from streamlit_extras.stylable_container import stylable_container\n",
    "import os\n",
    "import pandas as pd\n",
    "import matplotlib.pyplot as plt\n",
    "import plotly.graph_objects as go\n",
    "\n",
    "request_information = pd.read_csv(r\"C:\\Users\\carme\\OneDrive - Appelt Steuerberatung\\Carmen Appelt\\Master\\Semester 3\\DASP\\Code\\DASP_report_template\\DASP_report_template\\frontend\\dummy_data\\dummy_request_information_list.csv\")\n"
   ]
  },
  {
   "cell_type": "code",
   "execution_count": 7,
   "metadata": {},
   "outputs": [
    {
     "data": {
      "text/html": [
       "<div>\n",
       "<style scoped>\n",
       "    .dataframe tbody tr th:only-of-type {\n",
       "        vertical-align: middle;\n",
       "    }\n",
       "\n",
       "    .dataframe tbody tr th {\n",
       "        vertical-align: top;\n",
       "    }\n",
       "\n",
       "    .dataframe thead th {\n",
       "        text-align: right;\n",
       "    }\n",
       "</style>\n",
       "<table border=\"1\" class=\"dataframe\">\n",
       "  <thead>\n",
       "    <tr style=\"text-align: right;\">\n",
       "      <th></th>\n",
       "      <th></th>\n",
       "      <th></th>\n",
       "      <th></th>\n",
       "      <th></th>\n",
       "      <th>Request Information;Frequency;Comments</th>\n",
       "    </tr>\n",
       "  </thead>\n",
       "  <tbody>\n",
       "    <tr>\n",
       "      <th>Explanation;2/3;\"[[ \"\"Autor1\"\"</th>\n",
       "      <th>[\"\"Ausgezeichnete Arbeit.\"\"</th>\n",
       "      <th>\"\"Sehr gut strukturiert.\"\"] ]</th>\n",
       "      <th>[ \"\"Autor2\"\"</th>\n",
       "      <th>[\"\"Informativ.\"\"</th>\n",
       "      <td>\"\"Gute Referenzen.\"\"] ]]\"</td>\n",
       "    </tr>\n",
       "    <tr>\n",
       "      <th>Explanation;2/3;\"[[ \"\"Autor3\"\"</th>\n",
       "      <th>[\"\"Unklare Argumentation.\"\"</th>\n",
       "      <th>\"\"Mehr Daten erforderlich.\"\"] ]</th>\n",
       "      <th>[ \"\"Autor4\"\"</th>\n",
       "      <th>[\"\"Nicht überzeugend.\"\"</th>\n",
       "      <td>\"\"Methodik fragwürdig.\"\"] ]]\"</td>\n",
       "    </tr>\n",
       "  </tbody>\n",
       "</table>\n",
       "</div>"
      ],
      "text/plain": [
       "                                                                                                                                    Request Information;Frequency;Comments\n",
       "Explanation;2/3;\"[[ \"\"Autor1\"\"  [\"\"Ausgezeichnete Arbeit.\"\"  \"\"Sehr gut strukturiert.\"\"] ]    [ \"\"Autor2\"\"  [\"\"Informativ.\"\"                     \"\"Gute Referenzen.\"\"] ]]\"\n",
       "Explanation;2/3;\"[[ \"\"Autor3\"\"  [\"\"Unklare Argumentation.\"\"  \"\"Mehr Daten erforderlich.\"\"] ]  [ \"\"Autor4\"\"  [\"\"Nicht überzeugend.\"\"          \"\"Methodik fragwürdig.\"\"] ]]\""
      ]
     },
     "execution_count": 7,
     "metadata": {},
     "output_type": "execute_result"
    }
   ],
   "source": [
    "request_information\n"
   ]
  },
  {
   "cell_type": "code",
   "execution_count": 17,
   "metadata": {},
   "outputs": [
    {
     "name": "stderr",
     "output_type": "stream",
     "text": [
      "2024-11-26 19:12:22.836 Thread 'MainThread': missing ScriptRunContext! This warning can be ignored when running in bare mode.\n",
      "2024-11-26 19:12:22.837 Thread 'MainThread': missing ScriptRunContext! This warning can be ignored when running in bare mode.\n",
      "2024-11-26 19:12:22.838 Thread 'MainThread': missing ScriptRunContext! This warning can be ignored when running in bare mode.\n",
      "2024-11-26 19:12:22.840 Thread 'MainThread': missing ScriptRunContext! This warning can be ignored when running in bare mode.\n",
      "2024-11-26 19:12:22.841 Thread 'MainThread': missing ScriptRunContext! This warning can be ignored when running in bare mode.\n",
      "2024-11-26 19:12:22.841 Thread 'MainThread': missing ScriptRunContext! This warning can be ignored when running in bare mode.\n",
      "2024-11-26 19:12:22.842 Thread 'MainThread': missing ScriptRunContext! This warning can be ignored when running in bare mode.\n",
      "2024-11-26 19:12:22.843 Thread 'MainThread': missing ScriptRunContext! This warning can be ignored when running in bare mode.\n",
      "2024-11-26 19:12:22.844 Thread 'MainThread': missing ScriptRunContext! This warning can be ignored when running in bare mode.\n",
      "2024-11-26 19:12:22.844 Thread 'MainThread': missing ScriptRunContext! This warning can be ignored when running in bare mode.\n"
     ]
    },
    {
     "name": "stdout",
     "output_type": "stream",
     "text": [
      "### Kommentare von Autor1\n",
      "Ausgezeichnete Arbeit.\n",
      "Sehr gut strukturiert.\n",
      "### Kommentare von Autor2\n",
      "Informativ.\n",
      "Gute Referenzen.\n",
      "### Kommentare von Autor5\n",
      "Interessantes Thema.\n",
      "Gute Ausführung.\n",
      "### Kommentare von Autor3\n",
      "Unklare Argumentation.\n",
      "Mehr Daten erforderlich.\n",
      "### Kommentare von Autor4\n",
      "Nicht Überzeugend.\n",
      "Methodik fragwürdig.\n",
      "### Kommentare von Autor6\n",
      "Rechtschreibfehler in Abschnitt 2.\n",
      "Formatierung inkonsistent.\n",
      "### Kommentare von Autor7\n",
      "Sollten mehr Beispiele enthalten.\n",
      "Weitere Erklärungen notwendig.\n",
      "### Kommentare von Autor8\n",
      "Gute Vorschläge.\n",
      "Innovativer Ansatz.\n",
      "### Kommentare von Autor9\n",
      "Kann verbessert werden.\n",
      "Struktur überdenken.\n",
      "### Kommentare von Autor10\n",
      "Bitte präzisieren Sie Ihre Aussage.\n",
      "Unklarheiten in Abschnitt 3.\n",
      "### Kommentare von Autor11\n",
      "Weitere Details benötigt.\n",
      "Definitionen fehlen.\n",
      "### Kommentare von Autor12\n",
      "Gute Klarstellung.\n",
      "Hilfreiche Ergänzungen.\n",
      "### Kommentare von Autor13\n",
      "Fehler in der Datenanalyse.\n",
      "Statistische Methoden überprüfen.\n",
      "### Kommentare von Autor14\n",
      "Inkonsistente Ergebnisse.\n",
      "Bitte erneut prüfen.\n",
      "### Kommentare von Autor15\n",
      "Diagramme nicht lesbar.\n",
      "Beschriftungen fehlen.\n"
     ]
    }
   ],
   "source": [
    "def show_comments(row):\n",
    "    comments = row['Comments']\n",
    "    st.markdown(comments)\n",
    "    for author_comments in comments:\n",
    "        author = author_comments[0]\n",
    "        comment_list = author_comments[1]\n",
    "        \n",
    "        print(f'### Kommentare von {author}')\n",
    "        for comment in comment_list:\n",
    "            print(comment)\n",
    "\n",
    "\n",
    "for index, row in df.iterrows():\n",
    "    show_comments(row)\n"
   ]
  },
  {
   "cell_type": "code",
   "execution_count": null,
   "metadata": {},
   "outputs": [],
   "source": [
    "import pandas as pd\n",
    "\n",
    "# Erstellen des DataFrames mit erweiterten Daten\n",
    "data = {\n",
    "    'Request Information': ['Explanation', 'Typo', 'Suggestion', 'Clarification', 'Error Report'],\n",
    "    'Frequency': [1/3, \"2/3\", \"1/3\", \"3/3\", \"1/3\"],\n",
    "    'Comments': [\n",
    "        [\n",
    "            [\"Autor1\", [\"Ausgezeichnete Arbeit.\", \"Sehr gut strukturiert.\"]],\n",
    "            [\"Autor2\", [\"Informativ.\", \"Gute Referenzen.\"]],\n",
    "            [\"Autor5\", [\"Interessantes Thema.\", \"Gute Ausführung.\"]]\n",
    "        ],\n",
    "        [\n",
    "            [\"Autor3\", [\"Unklare Argumentation.\", \"Mehr Daten erforderlich.\"]],\n",
    "            [\"Autor4\", [\"Nicht Überzeugend.\", \"Methodik fragwürdig.\"]],\n",
    "            [\"Autor6\", [\"Rechtschreibfehler in Abschnitt 2.\", \"Formatierung inkonsistent.\"]]\n",
    "        ],\n",
    "        [\n",
    "            [\"Autor7\", [\"Sollten mehr Beispiele enthalten.\", \"Weitere Erklärungen notwendig.\"]],\n",
    "            [\"Autor8\", [\"Gute Vorschläge.\", \"Innovativer Ansatz.\"]],\n",
    "            [\"Autor9\", [\"Kann verbessert werden.\", \"Struktur überdenken.\"]]\n",
    "        ],\n",
    "        [\n",
    "            [\"Autor10\", [\"Bitte präzisieren Sie Ihre Aussage.\", \"Unklarheiten in Abschnitt 3.\"]],\n",
    "            [\"Autor11\", [\"Weitere Details benötigt.\", \"Definitionen fehlen.\"]],\n",
    "            [\"Autor12\", [\"Gute Klarstellung.\", \"Hilfreiche Ergänzungen.\"]]\n",
    "        ],\n",
    "        [\n",
    "            [\"Autor13\", [\"Fehler in der Datenanalyse.\", \"Statistische Methoden überprüfen.\"]],\n",
    "            [\"Autor14\", [\"Inkonsistente Ergebnisse.\", \"Bitte erneut prüfen.\"]],\n",
    "            [\"Autor15\", [\"Diagramme nicht lesbar.\", \"Beschriftungen fehlen.\"]]\n",
    "        ]\n",
    "    ]\n",
    "}\n",
    "\n",
    "df = pd.DataFrame(data)\n"
   ]
  },
  {
   "cell_type": "code",
   "execution_count": 20,
   "metadata": {},
   "outputs": [
    {
     "data": {
      "text/html": [
       "<div>\n",
       "<style scoped>\n",
       "    .dataframe tbody tr th:only-of-type {\n",
       "        vertical-align: middle;\n",
       "    }\n",
       "\n",
       "    .dataframe tbody tr th {\n",
       "        vertical-align: top;\n",
       "    }\n",
       "\n",
       "    .dataframe thead th {\n",
       "        text-align: right;\n",
       "    }\n",
       "</style>\n",
       "<table border=\"1\" class=\"dataframe\">\n",
       "  <thead>\n",
       "    <tr style=\"text-align: right;\">\n",
       "      <th></th>\n",
       "      <th>Request Information</th>\n",
       "      <th>Frequency</th>\n",
       "      <th>Comments</th>\n",
       "    </tr>\n",
       "  </thead>\n",
       "  <tbody>\n",
       "    <tr>\n",
       "      <th>0</th>\n",
       "      <td>Explanation</td>\n",
       "      <td>0.333333</td>\n",
       "      <td>[[Autor1, [Ausgezeichnete Arbeit., Sehr gut st...</td>\n",
       "    </tr>\n",
       "    <tr>\n",
       "      <th>1</th>\n",
       "      <td>Typo</td>\n",
       "      <td>0.666667</td>\n",
       "      <td>[[Autor3, [Unklare Argumentation., Mehr Daten ...</td>\n",
       "    </tr>\n",
       "    <tr>\n",
       "      <th>2</th>\n",
       "      <td>Suggestion</td>\n",
       "      <td>0.333333</td>\n",
       "      <td>[[Autor7, [Sollten mehr Beispiele enthalten., ...</td>\n",
       "    </tr>\n",
       "    <tr>\n",
       "      <th>3</th>\n",
       "      <td>Clarification</td>\n",
       "      <td>1.000000</td>\n",
       "      <td>[[Autor10, [Bitte präzisieren Sie Ihre Aussage...</td>\n",
       "    </tr>\n",
       "    <tr>\n",
       "      <th>4</th>\n",
       "      <td>Error Report</td>\n",
       "      <td>0.333333</td>\n",
       "      <td>[[Autor13, [Fehler in der Datenanalyse., Stati...</td>\n",
       "    </tr>\n",
       "  </tbody>\n",
       "</table>\n",
       "</div>"
      ],
      "text/plain": [
       "  Request Information  Frequency  \\\n",
       "0         Explanation   0.333333   \n",
       "1                Typo   0.666667   \n",
       "2          Suggestion   0.333333   \n",
       "3       Clarification   1.000000   \n",
       "4        Error Report   0.333333   \n",
       "\n",
       "                                            Comments  \n",
       "0  [[Autor1, [Ausgezeichnete Arbeit., Sehr gut st...  \n",
       "1  [[Autor3, [Unklare Argumentation., Mehr Daten ...  \n",
       "2  [[Autor7, [Sollten mehr Beispiele enthalten., ...  \n",
       "3  [[Autor10, [Bitte präzisieren Sie Ihre Aussage...  \n",
       "4  [[Autor13, [Fehler in der Datenanalyse., Stati...  "
      ]
     },
     "execution_count": 20,
     "metadata": {},
     "output_type": "execute_result"
    }
   ],
   "source": [
    "df"
   ]
  },
  {
   "cell_type": "code",
   "execution_count": 25,
   "metadata": {},
   "outputs": [],
   "source": [
    "import pickle\n",
    "\n",
    "# Speichern des DataFrames als 'dataframe.pkl'\n",
    "with open(r'C:\\Users\\carme\\OneDrive - Appelt Steuerberatung\\Carmen Appelt\\Master\\Semester 3\\DASP\\Code\\DASP_report_template\\DASP_report_template\\frontend\\dummy_data\\dummy_request_information.pkl', 'wb') as file:\n",
    "    pickle.dump(df, file)"
   ]
  },
  {
   "cell_type": "code",
   "execution_count": 14,
   "metadata": {},
   "outputs": [
    {
     "ename": "FileNotFoundError",
     "evalue": "[Errno 2] No such file or directory: 'frontend\\\\dummy_data\\\\dummy_request_information.pkl'",
     "output_type": "error",
     "traceback": [
      "\u001b[1;31m---------------------------------------------------------------------------\u001b[0m",
      "\u001b[1;31mFileNotFoundError\u001b[0m                         Traceback (most recent call last)",
      "Cell \u001b[1;32mIn[14], line 1\u001b[0m\n\u001b[1;32m----> 1\u001b[0m \u001b[38;5;28;01mwith\u001b[39;00m \u001b[38;5;28;43mopen\u001b[39;49m\u001b[43m(\u001b[49m\u001b[43mos\u001b[49m\u001b[38;5;241;43m.\u001b[39;49m\u001b[43mpath\u001b[49m\u001b[38;5;241;43m.\u001b[39;49m\u001b[43mjoin\u001b[49m\u001b[43m(\u001b[49m\u001b[38;5;124;43m'\u001b[39;49m\u001b[38;5;124;43mfrontend\u001b[39;49m\u001b[38;5;124;43m'\u001b[39;49m\u001b[43m,\u001b[49m\u001b[43m \u001b[49m\u001b[38;5;124;43m'\u001b[39;49m\u001b[38;5;124;43mdummy_data\u001b[39;49m\u001b[38;5;124;43m'\u001b[39;49m\u001b[43m,\u001b[49m\u001b[43m \u001b[49m\u001b[38;5;124;43m'\u001b[39;49m\u001b[38;5;124;43mdummy_request_information.pkl\u001b[39;49m\u001b[38;5;124;43m'\u001b[39;49m\u001b[43m)\u001b[49m\u001b[43m,\u001b[49m\u001b[43m \u001b[49m\u001b[38;5;124;43m'\u001b[39;49m\u001b[38;5;124;43mrb\u001b[39;49m\u001b[38;5;124;43m'\u001b[39;49m\u001b[43m)\u001b[49m \u001b[38;5;28;01mas\u001b[39;00m file:\n\u001b[0;32m      2\u001b[0m     request_information \u001b[38;5;241m=\u001b[39m pickle\u001b[38;5;241m.\u001b[39mload(file)\n",
      "File \u001b[1;32mc:\\Users\\carme\\miniconda3\\Lib\\site-packages\\IPython\\core\\interactiveshell.py:286\u001b[0m, in \u001b[0;36m_modified_open\u001b[1;34m(file, *args, **kwargs)\u001b[0m\n\u001b[0;32m    279\u001b[0m \u001b[38;5;28;01mif\u001b[39;00m file \u001b[38;5;129;01min\u001b[39;00m {\u001b[38;5;241m0\u001b[39m, \u001b[38;5;241m1\u001b[39m, \u001b[38;5;241m2\u001b[39m}:\n\u001b[0;32m    280\u001b[0m     \u001b[38;5;28;01mraise\u001b[39;00m \u001b[38;5;167;01mValueError\u001b[39;00m(\n\u001b[0;32m    281\u001b[0m         \u001b[38;5;124mf\u001b[39m\u001b[38;5;124m\"\u001b[39m\u001b[38;5;124mIPython won\u001b[39m\u001b[38;5;124m'\u001b[39m\u001b[38;5;124mt let you open fd=\u001b[39m\u001b[38;5;132;01m{\u001b[39;00mfile\u001b[38;5;132;01m}\u001b[39;00m\u001b[38;5;124m by default \u001b[39m\u001b[38;5;124m\"\u001b[39m\n\u001b[0;32m    282\u001b[0m         \u001b[38;5;124m\"\u001b[39m\u001b[38;5;124mas it is likely to crash IPython. If you know what you are doing, \u001b[39m\u001b[38;5;124m\"\u001b[39m\n\u001b[0;32m    283\u001b[0m         \u001b[38;5;124m\"\u001b[39m\u001b[38;5;124myou can use builtins\u001b[39m\u001b[38;5;124m'\u001b[39m\u001b[38;5;124m open.\u001b[39m\u001b[38;5;124m\"\u001b[39m\n\u001b[0;32m    284\u001b[0m     )\n\u001b[1;32m--> 286\u001b[0m \u001b[38;5;28;01mreturn\u001b[39;00m \u001b[43mio_open\u001b[49m\u001b[43m(\u001b[49m\u001b[43mfile\u001b[49m\u001b[43m,\u001b[49m\u001b[43m \u001b[49m\u001b[38;5;241;43m*\u001b[39;49m\u001b[43margs\u001b[49m\u001b[43m,\u001b[49m\u001b[43m \u001b[49m\u001b[38;5;241;43m*\u001b[39;49m\u001b[38;5;241;43m*\u001b[39;49m\u001b[43mkwargs\u001b[49m\u001b[43m)\u001b[49m\n",
      "\u001b[1;31mFileNotFoundError\u001b[0m: [Errno 2] No such file or directory: 'frontend\\\\dummy_data\\\\dummy_request_information.pkl'"
     ]
    }
   ],
   "source": [
    "with open(os.path.join('frontend', 'dummy_data', 'dummy_request_information.pkl'), 'rb') as file:\n",
    "    request_information = pickle.load(file)\n"
   ]
  },
  {
   "cell_type": "code",
   "execution_count": null,
   "metadata": {},
   "outputs": [],
   "source": []
  },
  {
   "cell_type": "code",
   "execution_count": null,
   "metadata": {},
   "outputs": [],
   "source": []
  }
 ],
 "metadata": {
  "kernelspec": {
   "display_name": "base",
   "language": "python",
   "name": "python3"
  },
  "language_info": {
   "codemirror_mode": {
    "name": "ipython",
    "version": 3
   },
   "file_extension": ".py",
   "mimetype": "text/x-python",
   "name": "python",
   "nbconvert_exporter": "python",
   "pygments_lexer": "ipython3",
   "version": "3.11.5"
  }
 },
 "nbformat": 4,
 "nbformat_minor": 2
}
