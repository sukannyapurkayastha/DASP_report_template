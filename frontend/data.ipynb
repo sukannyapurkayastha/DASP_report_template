{
 "cells": [
  {
   "cell_type": "code",
   "metadata": {
    "jupyter": {
     "is_executing": true
    }
   },
   "source": [
    "import streamlit as st\n",
    "from streamlit_extras.stylable_container import stylable_container\n",
    "import os\n",
    "import pandas as pd\n",
    "import matplotlib.pyplot as plt\n",
    "import plotly.graph_objects as go\n",
    "\n"
   ],
   "execution_count": null,
   "outputs": []
  },
  {
   "cell_type": "code",
   "execution_count": null,
   "metadata": {},
   "source": [
    "import pandas as pd\n",
    "\n",
    "# Erstellen des DataFrames mit erweiterten Daten\n",
    "requests = {\n",
    "    'Request Information': ['Explanation', 'Typo', 'Suggestion', 'Clarification', 'Error Report'],\n",
    "    'Frequency': [1/3, 2/3, 1/3, 3/3, 1/3],\n",
    "    'Comments': [\n",
    "        [\n",
    "            [\"Autor1\", [\"Ausgezeichnete Arbeit.\", \"Sehr gut strukturiert.\"]],\n",
    "            [\"Autor2\", [\"Informativ.\", \"Gute Referenzen.\"]],\n",
    "            [\"Autor5\", [\"Interessantes Thema.\", \"Gute Ausführung.\"]]\n",
    "        ],\n",
    "        [\n",
    "            [\"Autor3\", [\"Unklare Argumentation.\", \"Mehr Daten erforderlich.\"]],\n",
    "            [\"Autor4\", [\"Nicht Überzeugend.\", \"Methodik fragwürdig.\", \"Naja\"]],\n",
    "            [\"Autor6\", [\"Rechtschreibfehler in Abschnitt 2.\", \"Formatierung inkonsistent.\"]]\n",
    "        ],\n",
    "        [\n",
    "            [\"Autor7\", [\"Sollten mehr Beispiele enthalten.\", \"Weitere Erklärungen notwendig.\"]],\n",
    "            [\"Autor8\", [\"Gute Vorschläge.\", \"Innovativer Ansatz.\"]],\n",
    "            [\"Autor9\", [\"Kann verbessert werden.\", \"Struktur überdenken.\"]]\n",
    "        ],\n",
    "        [\n",
    "            [\"Autor10\", [\"Bitte präzisieren Sie Ihre Aussage.\", \"Unklarheiten in Abschnitt 3.\"]],\n",
    "            [\"Autor11\", [\"Weitere Details benötigt.\", \"Definitionen fehlen.\"]],\n",
    "            [\"Autor12\", [\"Gute Klarstellung.\", \"Hilfreiche Ergänzungen.\"]]\n",
    "        ],\n",
    "        [\n",
    "            [\"Autor13\", [\"Fehler in der Datenanalyse.\", \"Statistische Methoden überprüfen.\"]],\n",
    "            [\"Autor14\", [\"Inkonsistente Ergebnisse.\", \"Bitte erneut prüfen.\"]],\n",
    "            [\"Autor15\", [\"Diagramme nicht lesbar.\", \"Beschriftungen fehlen.\"]]\n",
    "        ]\n",
    "    ]\n",
    "}\n",
    "\n"
   ],
   "outputs": []
  },
  {
   "cell_type": "code",
   "execution_count": null,
   "metadata": {},
   "source": [
    "\n",
    "# Rating bis 10; \n",
    "Overview = {\n",
    "    'Category': ['Rating', 'Soundness', 'Presentation', 'Contribution'],\n",
    "    'Avg_Score': [9, 2.5, 3, 1.3],\n",
    "    'Individual_scores':[\n",
    "        [\n",
    "            [\"Autor 1\", 10],\n",
    "            [\"Autor 2\", 8],\n",
    "            [\"Autor 3\", None]\n",
    "        ],\n",
    "        [\n",
    "            [\"Autor 1\", 1],\n",
    "            [\"Autor 2\", 4],\n",
    "            [\"Autor 3\", None]\n",
    "        ],\n",
    "        [\n",
    "            [\"Autor 1\", 1],\n",
    "            [\"Autor 2\", 4],\n",
    "            [\"Autor 3\", None]\n",
    "        ],\n",
    "        [\n",
    "            [\"Autor 1\", 2],\n",
    "            [\"Autor 2\", 4],\n",
    "            [\"Autor 3\", None]\n",
    "        ]\n",
    "        ] \n",
    "}"
   ],
   "outputs": []
  },
  {
   "cell_type": "code",
   "execution_count": null,
   "metadata": {},
   "source": [
    "attitude_roots = {\n",
    "    'Attitude_roots': ['Clarity (Overall)', 'Clarity (Method)', 'Originality (Experiments)', 'Clarity (Overall)', 'Originality (Experiments)'],\n",
    "    'Frequency': [1/3, 2/3, 1/3, 3/3, 1/3],\n",
    "    'Descriptions': ['The paper is not nicely written or rather easy to follow', 'Unclear description of method', 'Not enough novelty in experiments (seems similar to previous work)', 'Not enough novelty in experiments (seems similar to previous work)', 'Not enough novelty in experiments (seems similar to previous work)'],\n",
    "    'Comments': [\n",
    "        [\n",
    "            [\"Autor1\", [\"Ausgezeichnete Arbeit.\", \"Sehr gut strukturiert.\"]],\n",
    "            [\"Autor2\", [\"Informativ.\", \"Gute Referenzen.\"]],\n",
    "            [\"Autor5\", [\"Interessantes Thema.\", \"Gute Ausführung.\"]]\n",
    "        ],\n",
    "        [\n",
    "            [\"Autor3\", [\"Unklare Argumentation.\", \"Mehr Daten erforderlich.\"]],\n",
    "            [\"Autor4\", [\"Nicht Überzeugend.\", \"Methodik fragwürdig.\", \"Naja\"]],\n",
    "            [\"Autor6\", [\"Rechtschreibfehler in Abschnitt 2.\", \"Formatierung inkonsistent.\"]]\n",
    "        ],\n",
    "        [\n",
    "            [\"Autor7\", [\"Sollten mehr Beispiele enthalten.\", \"Weitere Erklärungen notwendig.\"]],\n",
    "            [\"Autor8\", [\"Gute Vorschläge.\", \"Innovativer Ansatz.\"]],\n",
    "            [\"Autor9\", [\"Kann verbessert werden.\", \"Struktur überdenken.\"]]\n",
    "        ],\n",
    "        [\n",
    "            [\"Autor10\", [\"Bitte präzisieren Sie Ihre Aussage.\", \"Unklarheiten in Abschnitt 3.\"]],\n",
    "            [\"Autor11\", [\"Weitere Details benötigt.\", \"Definitionen fehlen.\"]],\n",
    "            [\"Autor12\", [\"Gute Klarstellung.\", \"Hilfreiche Ergänzungen.\"]]\n",
    "        ],\n",
    "        [\n",
    "            [\"Autor13\", [\"Fehler in der Datenanalyse.\", \"Statistische Methoden überprüfen.\"]],\n",
    "            [\"Autor14\", [\"Inkonsistente Ergebnisse.\", \"Bitte erneut prüfen.\"]],\n",
    "            [\"Autor15\", [\"Diagramme nicht lesbar.\", \"Beschriftungen fehlen.\"]]\n",
    "        ]\n",
    "    ]\n",
    "}"
   ],
   "outputs": []
  },
  {
   "cell_type": "code",
   "execution_count": null,
   "metadata": {},
   "source": [
    "df_overview = pd.DataFrame(Overview)\n",
    "df_overview"
   ],
   "outputs": []
  },
  {
   "cell_type": "code",
   "execution_count": null,
   "metadata": {},
   "source": [
    "df_attitude_roots = pd.DataFrame(attitude_roots).sort_values(by='Frequency', ascending=False)\n",
    "df_attitude_roots"
   ],
   "outputs": []
  },
  {
   "cell_type": "code",
   "execution_count": null,
   "metadata": {},
   "source": [
    "df_requests = pd.DataFrame(requests).sort_values(by='Frequency', ascending=False)\n",
    "df_requests"
   ],
   "outputs": []
  },
  {
   "cell_type": "code",
   "execution_count": null,
   "metadata": {},
   "source": [
    "import pickle, os\n",
    "\n",
    "# Ensure the 'dummy_data' directory exists\n",
    "dummy_data_path = os.path.join(os.getcwd(), 'dummy_data')\n",
    "os.makedirs(dummy_data_path, exist_ok=True)\n",
    "\n",
    "# Save each DataFrame as a .pkl file\n",
    "with open(os.path.join(dummy_data_path, 'dummy_requests.pkl'), 'wb') as file:\n",
    "    pickle.dump(df_requests, file)\n",
    "\n",
    "with open(os.path.join(dummy_data_path, 'dummy_attitude_roots.pkl'), 'wb') as file:\n",
    "    pickle.dump(df_attitude_roots, file)\n",
    "\n",
    "with open(os.path.join(dummy_data_path, 'dummy_overview.pkl'), 'wb') as file:\n",
    "    pickle.dump(df_overview, file)\n"
   ],
   "outputs": []
  },
  {
   "cell_type": "code",
   "execution_count": null,
   "metadata": {},
   "source": [
    "with open(os.path.join('dummy_data', 'dummy_requests.pkl'), 'rb') as file:\n",
    "    request_information = pickle.load(file)\n",
    "request_information"
   ],
   "outputs": []
  },
  {
   "cell_type": "code",
   "execution_count": null,
   "metadata": {},
   "source": [],
   "outputs": []
  },
  {
   "cell_type": "code",
   "execution_count": null,
   "metadata": {},
   "source": [],
   "outputs": []
  }
 ],
 "metadata": {
  "kernelspec": {
   "display_name": "Python 3",
   "language": "python",
   "name": "python3"
  },
  "language_info": {
   "codemirror_mode": {
    "name": "ipython",
    "version": 3
   },
   "file_extension": ".py",
   "mimetype": "text/x-python",
   "name": "python",
   "nbconvert_exporter": "python",
   "pygments_lexer": "ipython3",
   "version": "3.11.5"
  }
 },
 "nbformat": 4,
 "nbformat_minor": 2
}
