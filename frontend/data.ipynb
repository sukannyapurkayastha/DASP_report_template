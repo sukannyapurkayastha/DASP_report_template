{
 "cells": [
  {
   "cell_type": "code",
   "execution_count": null,
   "metadata": {},
   "outputs": [],
   "source": [
    "import streamlit as st\n",
    "from streamlit_extras.stylable_container import stylable_container\n",
    "import os\n",
    "import pandas as pd\n",
    "import matplotlib.pyplot as plt\n",
    "import plotly.graph_objects as go\n",
    "\n"
   ]
  },
  {
   "cell_type": "code",
   "execution_count": 14,
   "metadata": {},
   "outputs": [],
   "source": [
    "import pandas as pd\n",
    "\n",
    "# Erstellen des DataFrames mit erweiterten Daten\n",
    "requests = {\n",
    "    'Request Information': ['Explanation', 'Typo', 'Suggestion', 'Clarification', 'Error Report'],\n",
    "    'Frequency': [1/3, \"2/3\", \"1/3\", \"3/3\", \"1/3\"],\n",
    "    'Comments': [\n",
    "        [\n",
    "            [\"Autor1\", [\"Ausgezeichnete Arbeit.\", \"Sehr gut strukturiert.\"]],\n",
    "            [\"Autor2\", [\"Informativ.\", \"Gute Referenzen.\"]],\n",
    "            [\"Autor5\", [\"Interessantes Thema.\", \"Gute Ausführung.\"]]\n",
    "        ],\n",
    "        [\n",
    "            [\"Autor3\", [\"Unklare Argumentation.\", \"Mehr Daten erforderlich.\"]],\n",
    "            [\"Autor4\", [\"Nicht Überzeugend.\", \"Methodik fragwürdig.\", \"Naja\"]],\n",
    "            [\"Autor6\", [\"Rechtschreibfehler in Abschnitt 2.\", \"Formatierung inkonsistent.\"]]\n",
    "        ],\n",
    "        [\n",
    "            [\"Autor7\", [\"Sollten mehr Beispiele enthalten.\", \"Weitere Erklärungen notwendig.\"]],\n",
    "            [\"Autor8\", [\"Gute Vorschläge.\", \"Innovativer Ansatz.\"]],\n",
    "            [\"Autor9\", [\"Kann verbessert werden.\", \"Struktur überdenken.\"]]\n",
    "        ],\n",
    "        [\n",
    "            [\"Autor10\", [\"Bitte präzisieren Sie Ihre Aussage.\", \"Unklarheiten in Abschnitt 3.\"]],\n",
    "            [\"Autor11\", [\"Weitere Details benötigt.\", \"Definitionen fehlen.\"]],\n",
    "            [\"Autor12\", [\"Gute Klarstellung.\", \"Hilfreiche Ergänzungen.\"]]\n",
    "        ],\n",
    "        [\n",
    "            [\"Autor13\", [\"Fehler in der Datenanalyse.\", \"Statistische Methoden überprüfen.\"]],\n",
    "            [\"Autor14\", [\"Inkonsistente Ergebnisse.\", \"Bitte erneut prüfen.\"]],\n",
    "            [\"Autor15\", [\"Diagramme nicht lesbar.\", \"Beschriftungen fehlen.\"]]\n",
    "        ]\n",
    "    ]\n",
    "}\n",
    "\n"
   ]
  },
  {
   "cell_type": "code",
   "execution_count": null,
   "metadata": {},
   "outputs": [],
   "source": [
    "\n",
    "# Rating bis 10; \n",
    "Overview = {\n",
    "    'Category': ['Rating', 'Soundness', 'Presentation', 'Contribution'],\n",
    "    'Avg_Score': [9, 2.5, 3, 1.3],\n",
    "    'Individual_scores':[\n",
    "        [\n",
    "            [\"Autor 1\", 10],\n",
    "            [\"Autor 2\", 8],\n",
    "            [\"Autor 3\", None]\n",
    "        ],\n",
    "        [\n",
    "            [\"Autor 1\", 1],\n",
    "            [\"Autor 2\", 4],\n",
    "            [\"Autor 3\", None]\n",
    "        ],\n",
    "        [\n",
    "            [\"Autor 1\", 1],\n",
    "            [\"Autor 2\", 4],\n",
    "            [\"Autor 3\", None]\n",
    "        ],\n",
    "        [\n",
    "            [\"Autor 1\", 2],\n",
    "            [\"Autor 2\", 4],\n",
    "            [\"Autor 3\", None]\n",
    "        ]\n",
    "        ] \n",
    "}"
   ]
  },
  {
   "cell_type": "code",
   "execution_count": 10,
   "metadata": {},
   "outputs": [],
   "source": [
    "attitude_roots = {\n",
    "    'Attitude_roots': ['Clarity (Overall)', 'Clarity (Method)', 'Originality(Experiments)', 'Clarity (Overall)', 'Originality(Experiments)'],\n",
    "    'Frequency': [1/3, \"2/3\", \"1/3\", \"3/3\", \"1/3\"],\n",
    "    'Descriptions': ['The paper is not nicely written or rather easy to follow', 'Unclear description of method;Reviewer 1: What is dt in Algorithm 1 description ?', 'Not enough novelty in experiments (seems similar to previous work)', 'Not enough novelty in experiments (seems similar to previous work)', 'Not enough novelty in experiments (seems similar to previous work)'],\n",
    "    'Comments': [\n",
    "        [\n",
    "            [\"Autor1\", [\"Ausgezeichnete Arbeit.\", \"Sehr gut strukturiert.\"]],\n",
    "            [\"Autor2\", [\"Informativ.\", \"Gute Referenzen.\"]],\n",
    "            [\"Autor5\", [\"Interessantes Thema.\", \"Gute Ausführung.\"]]\n",
    "        ],\n",
    "        [\n",
    "            [\"Autor3\", [\"Unklare Argumentation.\", \"Mehr Daten erforderlich.\"]],\n",
    "            [\"Autor4\", [\"Nicht Überzeugend.\", \"Methodik fragwürdig.\", \"Naja\"]],\n",
    "            [\"Autor6\", [\"Rechtschreibfehler in Abschnitt 2.\", \"Formatierung inkonsistent.\"]]\n",
    "        ],\n",
    "        [\n",
    "            [\"Autor7\", [\"Sollten mehr Beispiele enthalten.\", \"Weitere Erklärungen notwendig.\"]],\n",
    "            [\"Autor8\", [\"Gute Vorschläge.\", \"Innovativer Ansatz.\"]],\n",
    "            [\"Autor9\", [\"Kann verbessert werden.\", \"Struktur überdenken.\"]]\n",
    "        ],\n",
    "        [\n",
    "            [\"Autor10\", [\"Bitte präzisieren Sie Ihre Aussage.\", \"Unklarheiten in Abschnitt 3.\"]],\n",
    "            [\"Autor11\", [\"Weitere Details benötigt.\", \"Definitionen fehlen.\"]],\n",
    "            [\"Autor12\", [\"Gute Klarstellung.\", \"Hilfreiche Ergänzungen.\"]]\n",
    "        ],\n",
    "        [\n",
    "            [\"Autor13\", [\"Fehler in der Datenanalyse.\", \"Statistische Methoden überprüfen.\"]],\n",
    "            [\"Autor14\", [\"Inkonsistente Ergebnisse.\", \"Bitte erneut prüfen.\"]],\n",
    "            [\"Autor15\", [\"Diagramme nicht lesbar.\", \"Beschriftungen fehlen.\"]]\n",
    "        ]\n",
    "    ]\n",
    "}"
   ]
  },
  {
   "cell_type": "code",
   "execution_count": 12,
   "metadata": {},
   "outputs": [
    {
     "ename": "NameError",
     "evalue": "name 'requests' is not defined",
     "output_type": "error",
     "traceback": [
      "\u001b[1;31m---------------------------------------------------------------------------\u001b[0m",
      "\u001b[1;31mNameError\u001b[0m                                 Traceback (most recent call last)",
      "Cell \u001b[1;32mIn[12], line 8\u001b[0m\n\u001b[0;32m      5\u001b[0m df_attitude_roots \u001b[38;5;241m=\u001b[39m pd\u001b[38;5;241m.\u001b[39mDataFrame(attitude_roots)\n\u001b[0;32m      6\u001b[0m df_attitude_roots\n\u001b[1;32m----> 8\u001b[0m df_requests \u001b[38;5;241m=\u001b[39m pd\u001b[38;5;241m.\u001b[39mDataFrame(\u001b[43mrequests\u001b[49m)\n\u001b[0;32m      9\u001b[0m df_requests\n",
      "\u001b[1;31mNameError\u001b[0m: name 'requests' is not defined"
     ]
    }
   ],
   "source": [
    "import pandas as pd\n",
    "df_overview = pd.DataFrame(Overview)\n",
    "df_overview\n",
    "\n",
    "df_attitude_roots = pd.DataFrame(attitude_roots)\n",
    "df_attitude_roots\n",
    "\n",
    "df_requests = pd.DataFrame(requests)\n",
    "df_requests\n"
   ]
  },
  {
   "cell_type": "code",
   "execution_count": null,
   "metadata": {},
   "outputs": [
    {
     "ename": "NameError",
     "evalue": "name 'df_requests' is not defined",
     "output_type": "error",
     "traceback": [
      "\u001b[1;31m---------------------------------------------------------------------------\u001b[0m",
      "\u001b[1;31mNameError\u001b[0m                                 Traceback (most recent call last)",
      "Cell \u001b[1;32mIn[15], line 5\u001b[0m\n\u001b[0;32m      3\u001b[0m \u001b[38;5;66;03m# Speichern des DataFrames als 'dataframe.pkl'\u001b[39;00m\n\u001b[0;32m      4\u001b[0m \u001b[38;5;28;01mwith\u001b[39;00m \u001b[38;5;28mopen\u001b[39m(\u001b[38;5;124mr\u001b[39m\u001b[38;5;124m'\u001b[39m\u001b[38;5;124mC:\u001b[39m\u001b[38;5;124m\\\u001b[39m\u001b[38;5;124mUsers\u001b[39m\u001b[38;5;124m\\\u001b[39m\u001b[38;5;124mcarme\u001b[39m\u001b[38;5;124m\\\u001b[39m\u001b[38;5;124mOneDrive - Appelt Steuerberatung\u001b[39m\u001b[38;5;124m\\\u001b[39m\u001b[38;5;124mCarmen Appelt\u001b[39m\u001b[38;5;124m\\\u001b[39m\u001b[38;5;124mMaster\u001b[39m\u001b[38;5;124m\\\u001b[39m\u001b[38;5;124mSemester 3\u001b[39m\u001b[38;5;124m\\\u001b[39m\u001b[38;5;124mDASP\u001b[39m\u001b[38;5;124m\\\u001b[39m\u001b[38;5;124mCode\u001b[39m\u001b[38;5;124m\\\u001b[39m\u001b[38;5;124mDASP_report_template\u001b[39m\u001b[38;5;124m\\\u001b[39m\u001b[38;5;124mDASP_report_template\u001b[39m\u001b[38;5;124m\\\u001b[39m\u001b[38;5;124mfrontend\u001b[39m\u001b[38;5;124m\\\u001b[39m\u001b[38;5;124mdummy_data\u001b[39m\u001b[38;5;124m\\\u001b[39m\u001b[38;5;124mdummy_requests.pkl\u001b[39m\u001b[38;5;124m'\u001b[39m, \u001b[38;5;124m'\u001b[39m\u001b[38;5;124mwb\u001b[39m\u001b[38;5;124m'\u001b[39m) \u001b[38;5;28;01mas\u001b[39;00m file:\n\u001b[1;32m----> 5\u001b[0m     pickle\u001b[38;5;241m.\u001b[39mdump(\u001b[43mdf_requests\u001b[49m, file)\n\u001b[0;32m      7\u001b[0m \u001b[38;5;28;01mwith\u001b[39;00m \u001b[38;5;28mopen\u001b[39m(\u001b[38;5;124mr\u001b[39m\u001b[38;5;124m'\u001b[39m\u001b[38;5;124mC:\u001b[39m\u001b[38;5;124m\\\u001b[39m\u001b[38;5;124mUsers\u001b[39m\u001b[38;5;124m\\\u001b[39m\u001b[38;5;124mcarme\u001b[39m\u001b[38;5;124m\\\u001b[39m\u001b[38;5;124mOneDrive - Appelt Steuerberatung\u001b[39m\u001b[38;5;124m\\\u001b[39m\u001b[38;5;124mCarmen Appelt\u001b[39m\u001b[38;5;124m\\\u001b[39m\u001b[38;5;124mMaster\u001b[39m\u001b[38;5;124m\\\u001b[39m\u001b[38;5;124mSemester 3\u001b[39m\u001b[38;5;124m\\\u001b[39m\u001b[38;5;124mDASP\u001b[39m\u001b[38;5;124m\\\u001b[39m\u001b[38;5;124mCode\u001b[39m\u001b[38;5;124m\\\u001b[39m\u001b[38;5;124mDASP_report_template\u001b[39m\u001b[38;5;124m\\\u001b[39m\u001b[38;5;124mDASP_report_template\u001b[39m\u001b[38;5;124m\\\u001b[39m\u001b[38;5;124mfrontend\u001b[39m\u001b[38;5;124m\\\u001b[39m\u001b[38;5;124mdummy_data\u001b[39m\u001b[38;5;124m\\\u001b[39m\u001b[38;5;124mdummy_attitude_roots.pkl\u001b[39m\u001b[38;5;124m'\u001b[39m, \u001b[38;5;124m'\u001b[39m\u001b[38;5;124mwb\u001b[39m\u001b[38;5;124m'\u001b[39m) \u001b[38;5;28;01mas\u001b[39;00m file:\n\u001b[0;32m      8\u001b[0m     pickle\u001b[38;5;241m.\u001b[39mdump(df_attitude_roots, file)\n",
      "\u001b[1;31mNameError\u001b[0m: name 'df_requests' is not defined"
     ]
    }
   ],
   "source": [
    "import pickle\n",
    "\n",
    "# Speichern des DataFrames als 'dataframe.pkl'\n",
    "with open(r'C:\\Users\\carme\\OneDrive - Appelt Steuerberatung\\Carmen Appelt\\Master\\Semester 3\\DASP\\Code\\DASP_report_template\\DASP_report_template\\frontend\\dummy_data\\dummy_requests.pkl', 'wb') as file:\n",
    "    pickle.dump(df_request, file)\n",
    "\n",
    "with open(r'C:\\Users\\carme\\OneDrive - Appelt Steuerberatung\\Carmen Appelt\\Master\\Semester 3\\DASP\\Code\\DASP_report_template\\DASP_report_template\\frontend\\dummy_data\\dummy_attitude_roots.pkl', 'wb') as file:\n",
    "    pickle.dump(df_attitude_roots, file)\n",
    "\n",
    "with open(r'C:\\Users\\carme\\OneDrive - Appelt Steuerberatung\\Carmen Appelt\\Master\\Semester 3\\DASP\\Code\\DASP_report_template\\DASP_report_template\\frontend\\dummy_data\\dummy_overview.pkl', 'wb') as file:\n",
    "    pickle.dump(df_overview, file)"
   ]
  },
  {
   "cell_type": "code",
   "execution_count": 14,
   "metadata": {},
   "outputs": [
    {
     "ename": "FileNotFoundError",
     "evalue": "[Errno 2] No such file or directory: 'frontend\\\\dummy_data\\\\dummy_request_information.pkl'",
     "output_type": "error",
     "traceback": [
      "\u001b[1;31m---------------------------------------------------------------------------\u001b[0m",
      "\u001b[1;31mFileNotFoundError\u001b[0m                         Traceback (most recent call last)",
      "Cell \u001b[1;32mIn[14], line 1\u001b[0m\n\u001b[1;32m----> 1\u001b[0m \u001b[38;5;28;01mwith\u001b[39;00m \u001b[38;5;28;43mopen\u001b[39;49m\u001b[43m(\u001b[49m\u001b[43mos\u001b[49m\u001b[38;5;241;43m.\u001b[39;49m\u001b[43mpath\u001b[49m\u001b[38;5;241;43m.\u001b[39;49m\u001b[43mjoin\u001b[49m\u001b[43m(\u001b[49m\u001b[38;5;124;43m'\u001b[39;49m\u001b[38;5;124;43mfrontend\u001b[39;49m\u001b[38;5;124;43m'\u001b[39;49m\u001b[43m,\u001b[49m\u001b[43m \u001b[49m\u001b[38;5;124;43m'\u001b[39;49m\u001b[38;5;124;43mdummy_data\u001b[39;49m\u001b[38;5;124;43m'\u001b[39;49m\u001b[43m,\u001b[49m\u001b[43m \u001b[49m\u001b[38;5;124;43m'\u001b[39;49m\u001b[38;5;124;43mdummy_request_information.pkl\u001b[39;49m\u001b[38;5;124;43m'\u001b[39;49m\u001b[43m)\u001b[49m\u001b[43m,\u001b[49m\u001b[43m \u001b[49m\u001b[38;5;124;43m'\u001b[39;49m\u001b[38;5;124;43mrb\u001b[39;49m\u001b[38;5;124;43m'\u001b[39;49m\u001b[43m)\u001b[49m \u001b[38;5;28;01mas\u001b[39;00m file:\n\u001b[0;32m      2\u001b[0m     request_information \u001b[38;5;241m=\u001b[39m pickle\u001b[38;5;241m.\u001b[39mload(file)\n",
      "File \u001b[1;32mc:\\Users\\carme\\miniconda3\\Lib\\site-packages\\IPython\\core\\interactiveshell.py:286\u001b[0m, in \u001b[0;36m_modified_open\u001b[1;34m(file, *args, **kwargs)\u001b[0m\n\u001b[0;32m    279\u001b[0m \u001b[38;5;28;01mif\u001b[39;00m file \u001b[38;5;129;01min\u001b[39;00m {\u001b[38;5;241m0\u001b[39m, \u001b[38;5;241m1\u001b[39m, \u001b[38;5;241m2\u001b[39m}:\n\u001b[0;32m    280\u001b[0m     \u001b[38;5;28;01mraise\u001b[39;00m \u001b[38;5;167;01mValueError\u001b[39;00m(\n\u001b[0;32m    281\u001b[0m         \u001b[38;5;124mf\u001b[39m\u001b[38;5;124m\"\u001b[39m\u001b[38;5;124mIPython won\u001b[39m\u001b[38;5;124m'\u001b[39m\u001b[38;5;124mt let you open fd=\u001b[39m\u001b[38;5;132;01m{\u001b[39;00mfile\u001b[38;5;132;01m}\u001b[39;00m\u001b[38;5;124m by default \u001b[39m\u001b[38;5;124m\"\u001b[39m\n\u001b[0;32m    282\u001b[0m         \u001b[38;5;124m\"\u001b[39m\u001b[38;5;124mas it is likely to crash IPython. If you know what you are doing, \u001b[39m\u001b[38;5;124m\"\u001b[39m\n\u001b[0;32m    283\u001b[0m         \u001b[38;5;124m\"\u001b[39m\u001b[38;5;124myou can use builtins\u001b[39m\u001b[38;5;124m'\u001b[39m\u001b[38;5;124m open.\u001b[39m\u001b[38;5;124m\"\u001b[39m\n\u001b[0;32m    284\u001b[0m     )\n\u001b[1;32m--> 286\u001b[0m \u001b[38;5;28;01mreturn\u001b[39;00m \u001b[43mio_open\u001b[49m\u001b[43m(\u001b[49m\u001b[43mfile\u001b[49m\u001b[43m,\u001b[49m\u001b[43m \u001b[49m\u001b[38;5;241;43m*\u001b[39;49m\u001b[43margs\u001b[49m\u001b[43m,\u001b[49m\u001b[43m \u001b[49m\u001b[38;5;241;43m*\u001b[39;49m\u001b[38;5;241;43m*\u001b[39;49m\u001b[43mkwargs\u001b[49m\u001b[43m)\u001b[49m\n",
      "\u001b[1;31mFileNotFoundError\u001b[0m: [Errno 2] No such file or directory: 'frontend\\\\dummy_data\\\\dummy_request_information.pkl'"
     ]
    }
   ],
   "source": [
    "with open(os.path.join('frontend', 'dummy_data', 'dummy_request_information.pkl'), 'rb') as file:\n",
    "    request_information = pickle.load(file)\n"
   ]
  },
  {
   "cell_type": "code",
   "execution_count": null,
   "metadata": {},
   "outputs": [],
   "source": []
  },
  {
   "cell_type": "code",
   "execution_count": null,
   "metadata": {},
   "outputs": [],
   "source": []
  }
 ],
 "metadata": {
  "kernelspec": {
   "display_name": "base",
   "language": "python",
   "name": "python3"
  },
  "language_info": {
   "codemirror_mode": {
    "name": "ipython",
    "version": 3
   },
   "file_extension": ".py",
   "mimetype": "text/x-python",
   "name": "python",
   "nbconvert_exporter": "python",
   "pygments_lexer": "ipython3",
   "version": "3.11.5"
  }
 },
 "nbformat": 4,
 "nbformat_minor": 2
}
