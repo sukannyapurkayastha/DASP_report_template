{
 "cells": [
  {
   "cell_type": "code",
   "execution_count": 1,
   "metadata": {},
   "source": [
    "import sys\n",
    "from pathlib import Path\n",
    "sys.path.append(str(Path.cwd().parent))\n",
    "\n",
    "from dataloading.loaders.openreview_loader import OpenReviewLoader"
   ],
   "outputs": []
  },
  {
   "cell_type": "code",
   "execution_count": 26,
   "metadata": {},
   "source": [
    "password = 'U^fz&*rXwXr8pyx'\n",
    "username = 'zhijingshui.yang@stud.tu-darmstadt.de'\n",
    "try:\n",
    "    client = OpenReviewLoader(username=username, password=password)\n",
    "except Exception as e:\n",
    "    print(f\"{e.args[0]['status']}: {str(e.args[0]['message'])}\")\n",
    "    print(e)\n",
    "\n",
    "test_set = client.create_testset(ids=[\"zzv4Bf50RW\"])"
   ],
   "outputs": []
  },
  {
   "cell_type": "code",
   "execution_count": 28,
   "metadata": {},
   "source": [
    "p = client.get_paper_reviews(\"zzv4Bf50RW\")\n",
    "p.reviews\n",
    "print(p.sentences)"
   ],
   "outputs": []
  },
  {
   "cell_type": "code",
   "execution_count": 3,
   "metadata": {},
   "source": [
    "import tensorflow as tf\n",
    "from transformers import BertTokenizer, TFBertForSequenceClassification\n",
    "# Load the tokenizer\n",
    "tokenizer = BertTokenizer.from_pretrained('models/attitude_root/')\n",
    "\n",
    "# Load the model\n",
    "model = TFBertForSequenceClassification.from_pretrained('models/attitude_root/')"
   ],
   "outputs": []
  },
  {
   "cell_type": "code",
   "execution_count": 4,
   "metadata": {},
   "source": [
    "def predict_category(text):\n",
    "    predict_input = tokenizer.encode(text,\n",
    "                                    truncation=True,\n",
    "                                    padding=True,\n",
    "                                    return_tensors=\"tf\")\n",
    "    output = model(predict_input)[0]\n",
    "    prediction_value = tf.argmax(output, axis=1).numpy()[0]\n",
    "    return prediction_value"
   ],
   "outputs": []
  },
  {
   "cell_type": "code",
   "execution_count": 8,
   "metadata": {},
   "source": [
    "test_set['attitude_root_number'] = test_set['sentence'].apply(predict_category)\n",
    "print(test_set)"
   ],
   "outputs": []
  },
  {
   "cell_type": "code",
   "execution_count": null,
   "metadata": {},
   "source": [
    "label_mapping = {\n",
    "    0: 'Other',\n",
    "    1: 'Clarity',\n",
    "    2: 'Meaningful-comparison',\n",
    "    3: 'Motivation-impact',\n",
    "    4: 'Originality',\n",
    "    5: 'Replicability',\n",
    "    6: 'Soundness-correctness',\n",
    "    7: 'Substance',\n",
    "    8: 'None'\n",
    "}\n",
    "\n",
    "test_set['attitude_root'] = test_set['attitude_root_number'].map(label_mapping)"
   ],
   "outputs": []
  },
  {
   "cell_type": "code",
   "execution_count": 23,
   "metadata": {},
   "source": [
    "import pandas as pd\n",
    "\n",
    "df = test_set\n",
    "total_rows = len(df)\n",
    "# Step 1: Group by 'attitude_root_number' and 'author', then aggregate the sentences\n",
    "agg_df = df.groupby(['attitude_root_number', 'author']).agg(\n",
    "    comments=('sentence', list), count=('sentence', 'size')\n",
    ").reset_index()\n",
    "\n",
    "agg_df\n"
   ],
   "outputs": []
  },
  {
   "cell_type": "code",
   "execution_count": null,
   "metadata": {},
   "source": [
    "final_df = agg_df.groupby('attitude_root_number').agg(\n",
    "    comments=('comments', lambda x: [[author, comments] for author, comments in zip(agg_df['author'], x)]),\n",
    "    count=('count', 'sum')\n",
    ").reset_index()\n",
    "final_df.iloc[0]['comments']"
   ],
   "outputs": []
  },
  {
   "cell_type": "code",
   "execution_count": 25,
   "metadata": {},
   "source": [
    "final_df.iloc[0]['comments']\n"
   ],
   "outputs": []
  }
 ],
 "metadata": {
  "kernelspec": {
   "display_name": "jitsupeer_310",
   "language": "python",
   "name": "python3"
  },
  "language_info": {
   "codemirror_mode": {
    "name": "ipython",
    "version": 3
   },
   "file_extension": ".py",
   "mimetype": "text/x-python",
   "name": "python",
   "nbconvert_exporter": "python",
   "pygments_lexer": "ipython3",
   "version": "3.10.15"
  }
 },
 "nbformat": 4,
 "nbformat_minor": 2
}
