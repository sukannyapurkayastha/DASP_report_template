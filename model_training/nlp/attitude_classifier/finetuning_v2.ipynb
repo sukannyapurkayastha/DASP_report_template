{
 "cells": [
  {
   "cell_type": "code",
   "execution_count": 71,
   "metadata": {},
   "outputs": [],
   "source": [
    "import pandas as pd\n",
    "import glob\n",
    "from sklearn.model_selection import train_test_split\n",
    "import tensorflow as tf\n",
    "from transformers import DistilBertTokenizer, TFDistilBertForSequenceClassification\n",
    "import matplotlib.pyplot as plt\n",
    "import seaborn as sns\n",
    "from sklearn.metrics import confusion_matrix, classification_report\n",
    "\n"
   ]
  },
  {
   "cell_type": "code",
   "execution_count": 72,
   "metadata": {},
   "outputs": [
    {
     "name": "stdout",
     "output_type": "stream",
     "text": [
      "9129\n"
     ]
    }
   ],
   "source": [
    "\n",
    "# Verzeichnis mit CSV-Dateien\n",
    "file_path_pattern = r'..\\..\\..\\data\\attitude_roots_disapere\\*.csv'\n",
    "\n",
    "# Alle CSV-Dateien im Verzeichnis finden\n",
    "csv_files = glob.glob(file_path_pattern)\n",
    "\n",
    "# CSV-Dateien zu einem DataFrame kombinieren\n",
    "combined_df = pd.concat([pd.read_csv(file) for file in csv_files], ignore_index=True)\n",
    "df = combined_df[['text', 'aspect']]\n",
    "df = df.rename(columns={'aspect': 'labels', 'text': 'data'})\n",
    "df = df.drop_duplicates(keep='first')\n",
    "\n",
    "# Mindestlänge: mindestens 3 Worte\n",
    "df = df[df['data'].apply(lambda x: len(str(x).split()) >= 3)]\n",
    "\n",
    "\n",
    "\n",
    "print(len(df))\n"
   ]
  },
  {
   "cell_type": "code",
   "execution_count": 73,
   "metadata": {},
   "outputs": [],
   "source": [
    "# Zuerst in Trainings- und Testdaten aufteilen, bevor resampling durchgeführt wird\n",
    "train_df, test_df = train_test_split(df, test_size=0.15, random_state=42)"
   ]
  },
  {
   "cell_type": "code",
   "execution_count": null,
   "metadata": {},
   "outputs": [],
   "source": []
  },
  {
   "cell_type": "code",
   "execution_count": 74,
   "metadata": {},
   "outputs": [
    {
     "name": "stdout",
     "output_type": "stream",
     "text": [
      "Train size: 12155\n",
      "Test size: 1370\n",
      "Train Labels: ['none' 'asp_originality' 'asp_clarity' 'asp_substance'\n",
      " 'asp_replicability' 'asp_motivation-impact' 'asp_soundness-correctness'\n",
      " 'asp_meaningful-comparison' 'arg_other']\n",
      "Test Labels: ['asp_soundness-correctness' 'none' 'asp_substance'\n",
      " 'asp_meaningful-comparison' 'asp_clarity' 'asp_motivation-impact'\n",
      " 'asp_replicability' 'arg_other' 'asp_originality']\n"
     ]
    }
   ],
   "source": [
    "# Nun führen wir das Resampling nur auf den Trainingsdaten durch\n",
    "aspects = [\n",
    "    \"asp_substance\",\n",
    "    \"asp_originality\",\n",
    "    \"asp_clarity\",\n",
    "    \"asp_soundness-correctness\",\n",
    "    \"asp_motivation-impact\",\n",
    "    \"asp_meaningful-comparison\",\n",
    "    \"asp_replicability\",\n",
    "    \"arg_other\"\n",
    "]\n",
    "\n",
    "for aspect in aspects:\n",
    "    aspect_subset = train_df[train_df[\"labels\"] == aspect]\n",
    "    # Beispielsweise: resample identisch groß, aber Sie könnten das n anpassen, wenn nötig\n",
    "    if len(aspect_subset) > 0:\n",
    "        resampled = aspect_subset.sample(n=len(aspect_subset), replace=True, random_state=42)\n",
    "        train_df = pd.concat([train_df, resampled], ignore_index=True)\n",
    "\n",
    "print(\"Train size:\", len(train_df))\n",
    "print(\"Test size:\", len(test_df))\n",
    "\n",
    "print(\"Train Labels:\", train_df[\"labels\"].unique())\n",
    "print(\"Test Labels:\", test_df[\"labels\"].unique())\n"
   ]
  },
  {
   "cell_type": "code",
   "execution_count": 75,
   "metadata": {},
   "outputs": [
    {
     "name": "stdout",
     "output_type": "stream",
     "text": [
      "Class distribution in training data:\n",
      "labels\n",
      "none                         3363\n",
      "asp_substance                2866\n",
      "asp_clarity                  1832\n",
      "asp_soundness-correctness    1648\n",
      "asp_originality               634\n",
      "asp_motivation-impact         620\n",
      "asp_meaningful-comparison     504\n",
      "asp_replicability             470\n",
      "arg_other                     218\n",
      "Name: count, dtype: int64\n"
     ]
    }
   ],
   "source": [
    "# Zähle, wie oft jede Klasse in den Trainingsdaten vorkommt\n",
    "class_counts = train_df['labels'].value_counts()\n",
    "\n",
    "# Ausgabe der Häufigkeiten jeder Klasse\n",
    "print(\"Class distribution in training data:\")\n",
    "print(class_counts)"
   ]
  },
  {
   "cell_type": "code",
   "execution_count": 76,
   "metadata": {},
   "outputs": [
    {
     "name": "stdout",
     "output_type": "stream",
     "text": [
      "Train Mapping:\n",
      "    encoded_cat                     labels\n",
      "0            0                  arg_other\n",
      "1            1                asp_clarity\n",
      "2            2  asp_meaningful-comparison\n",
      "3            3      asp_motivation-impact\n",
      "4            4            asp_originality\n",
      "5            5          asp_replicability\n",
      "6            6  asp_soundness-correctness\n",
      "7            7              asp_substance\n",
      "8            8                       none\n"
     ]
    }
   ],
   "source": [
    "# Mapping für die Trainingsdaten\n",
    "train_mapping_df = pd.DataFrame({\n",
    "    'encoded_cat': range(len(train_df[\"labels\"].astype(\"category\").cat.categories)),\n",
    "    'labels': train_df[\"labels\"].astype(\"category\").cat.categories\n",
    "})\n",
    "\n",
    "print(\"Train Mapping:\\n\", train_mapping_df)"
   ]
  },
  {
   "cell_type": "code",
   "execution_count": 77,
   "metadata": {},
   "outputs": [
    {
     "name": "stdout",
     "output_type": "stream",
     "text": [
      "Test Mapping:\n",
      "    encoded_cat                     labels\n",
      "0            0                  arg_other\n",
      "1            1                asp_clarity\n",
      "2            2  asp_meaningful-comparison\n",
      "3            3      asp_motivation-impact\n",
      "4            4            asp_originality\n",
      "5            5          asp_replicability\n",
      "6            6  asp_soundness-correctness\n",
      "7            7              asp_substance\n",
      "8            8                       none\n"
     ]
    }
   ],
   "source": [
    "# Encode labels in train_df\n",
    "train_df[\"encoded_cat\"] = train_df[\"labels\"].astype(\"category\").cat.codes\n",
    "train_texts = train_df[\"data\"].to_list()  # Features (not tokenized yet)\n",
    "train_labels = train_df[\"encoded_cat\"].to_list()  # Labels\n",
    "\n",
    "# Für Testdaten separat encodieren, um Konsistenz sicherzustellen\n",
    "test_mapping_df = pd.DataFrame({\n",
    "    'encoded_cat': range(len(test_df[\"labels\"].astype(\"category\").cat.categories)),\n",
    "    'labels': test_df[\"labels\"].astype(\"category\").cat.categories\n",
    "})\n",
    "print(\"Test Mapping:\\n\", test_mapping_df)\n"
   ]
  },
  {
   "cell_type": "code",
   "execution_count": 78,
   "metadata": {},
   "outputs": [],
   "source": [
    "test_df[\"encoded_cat\"] = test_df[\"labels\"].astype(\"category\").cat.codes\n",
    "data_test_texts = test_df[\"data\"].to_list()  # Features (not tokenized yet)\n",
    "data_test_labels = test_df[\"encoded_cat\"].to_list()  # Labels\n",
    "\n",
    "# Optional: weitere Aufteilung von Testdaten in Validation und finalen Test, wenn gewünscht.\n",
    "val_texts, final_test_texts, val_labels, final_test_labels = train_test_split(\n",
    "    data_test_texts, data_test_labels, test_size=0.9, random_state=0, shuffle=True\n",
    ")\n"
   ]
  },
  {
   "cell_type": "code",
   "execution_count": 79,
   "metadata": {},
   "outputs": [
    {
     "name": "stderr",
     "output_type": "stream",
     "text": [
      "Some weights of the PyTorch model were not used when initializing the TF 2.0 model TFDistilBertForSequenceClassification: ['vocab_layer_norm.bias', 'vocab_transform.weight', 'vocab_projector.bias', 'vocab_transform.bias', 'vocab_layer_norm.weight']\n",
      "- This IS expected if you are initializing TFDistilBertForSequenceClassification from a PyTorch model trained on another task or with another architecture (e.g. initializing a TFBertForSequenceClassification model from a BertForPreTraining model).\n",
      "- This IS NOT expected if you are initializing TFDistilBertForSequenceClassification from a PyTorch model that you expect to be exactly identical (e.g. initializing a TFBertForSequenceClassification model from a BertForSequenceClassification model).\n",
      "Some weights or buffers of the TF 2.0 model TFDistilBertForSequenceClassification were not initialized from the PyTorch model and are newly initialized: ['pre_classifier.weight', 'pre_classifier.bias', 'classifier.weight', 'classifier.bias']\n",
      "You should probably TRAIN this model on a down-stream task to be able to use it for predictions and inference.\n"
     ]
    }
   ],
   "source": [
    "import tensorflow as tf\n",
    "#Daten tokenisieren\n",
    "tokenizer = DistilBertTokenizer.from_pretrained('distilbert-base-uncased')\n",
    "\n",
    "model = TFDistilBertForSequenceClassification.from_pretrained('distilbert-base-uncased', num_labels=9)\n",
    " \n",
    "optimizer = tf.keras.optimizers.Adam(learning_rate=5e-5, epsilon=1e-08)\n",
    "model.compile(optimizer=optimizer, loss=model.hf_compute_loss, metrics=['accuracy'])\n",
    "\n"
   ]
  },
  {
   "cell_type": "code",
   "execution_count": 80,
   "metadata": {},
   "outputs": [],
   "source": [
    "# from transformers import DistilBertTokenizer, TFDistilBertForSequenceClassification\n",
    "# import tensorflow as tf\n",
    "\n",
    "# # Pfad zum Modell und Tokenizer\n",
    "# model_path = r\"C:\\Users\\carme\\OneDrive - Appelt Steuerberatung\\Carmen Appelt\\Master\\Semester 3\\DASP\\models\\final_model\"\n",
    "\n",
    "# # Tokenizer und Modell laden\n",
    "# tokenizer = DistilBertTokenizer.from_pretrained(model_path)\n",
    "# model = TFDistilBertForSequenceClassification.from_pretrained(model_path, num_labels=9)\n",
    "\n",
    "# # Optimizer einstellen\n",
    "# optimizer = tf.keras.optimizers.Adam(learning_rate=5e-5, epsilon=1e-08)\n",
    "\n",
    "# # Modell kompilieren\n",
    "# model.compile(optimizer=optimizer, loss=model.compute_loss, metrics=['accuracy'])\n",
    "\n",
    "# print(\"Tokenizer and model loaded and compiled successfully!\")\n"
   ]
  },
  {
   "cell_type": "code",
   "execution_count": 81,
   "metadata": {},
   "outputs": [],
   "source": [
    "# Tokenisierung\n",
    "train_encodings = tokenizer(train_texts, truncation=True, padding=True)\n",
    "val_encodings = tokenizer(val_texts, truncation=True, padding=True)\n",
    "final_test_encodings = tokenizer(final_test_texts, truncation=True, padding=True)\n",
    "\n",
    "# Tensoren erstellen\n",
    "train_labels = tf.convert_to_tensor(train_labels)\n",
    "val_labels = tf.convert_to_tensor(val_labels)\n",
    "final_test_labels = tf.convert_to_tensor(final_test_labels)\n",
    "\n",
    "train_dataset = tf.data.Dataset.from_tensor_slices((dict(train_encodings), train_labels))\n",
    "val_dataset = tf.data.Dataset.from_tensor_slices((dict(val_encodings), val_labels))\n",
    "test_dataset = tf.data.Dataset.from_tensor_slices((dict(final_test_encodings), final_test_labels))\n"
   ]
  },
  {
   "cell_type": "code",
   "execution_count": 82,
   "metadata": {},
   "outputs": [
    {
     "name": "stdout",
     "output_type": "stream",
     "text": [
      "760/760 [==============================] - 7369s 10s/step - loss: 1.1833 - accuracy: 0.6109 - val_loss: 2.5638 - val_accuracy: 0.2190\n"
     ]
    },
    {
     "data": {
      "text/plain": [
       "<tf_keras.src.callbacks.History at 0x15fecd0c050>"
      ]
     },
     "execution_count": 82,
     "metadata": {},
     "output_type": "execute_result"
    }
   ],
   "source": [
    "\n",
    "early_stopping = tf.keras.callbacks.EarlyStopping(monitor='val_loss', patience=3, restore_best_weights=True)\n",
    "\n",
    "model.fit(\n",
    "    train_dataset.shuffle(1000).batch(16),\n",
    "    epochs=1,\n",
    "    batch_size=16,\n",
    "    validation_data=val_dataset.batch(16),\n",
    "    callbacks=[early_stopping]\n",
    ")"
   ]
  },
  {
   "cell_type": "code",
   "execution_count": 83,
   "metadata": {},
   "outputs": [
    {
     "name": "stdout",
     "output_type": "stream",
     "text": [
      "342/342 [==============================] - 1560s 5s/step - loss: 0.8851 - accuracy: 0.7049 - val_loss: 1.3808 - val_accuracy: 0.5620\n"
     ]
    },
    {
     "data": {
      "text/plain": [
       "<tf_keras.src.callbacks.History at 0x161380b7d10>"
      ]
     },
     "execution_count": 83,
     "metadata": {},
     "output_type": "execute_result"
    }
   ],
   "source": [
    "# secon epoch with less data\n",
    "\n",
    "\n",
    "train_df, train_2_df = train_test_split(train_df, test_size=0.55, random_state=42)\n",
    "# Mapping für die Trainingsdaten\n",
    "train_mapping_df = pd.DataFrame({\n",
    "    'encoded_cat': range(len(train_df[\"labels\"].astype(\"category\").cat.categories)),\n",
    "    'labels': train_df[\"labels\"].astype(\"category\").cat.categories\n",
    "})\n",
    "# Encode labels in train_df\n",
    "train_df[\"encoded_cat\"] = train_df[\"labels\"].astype(\"category\").cat.codes\n",
    "train_texts = train_df[\"data\"].to_list()  # Features (not tokenized yet)\n",
    "train_labels = train_df[\"encoded_cat\"].to_list()  # Labels\n",
    "\n",
    "# Für Testdaten separat encodieren, um Konsistenz sicherzustellen\n",
    "test_mapping_df = pd.DataFrame({\n",
    "    'encoded_cat': range(len(test_df[\"labels\"].astype(\"category\").cat.categories)),\n",
    "    'labels': test_df[\"labels\"].astype(\"category\").cat.categories\n",
    "})\n",
    "test_df[\"encoded_cat\"] = test_df[\"labels\"].astype(\"category\").cat.codes\n",
    "data_test_texts = test_df[\"data\"].to_list()  # Features (not tokenized yet)\n",
    "data_test_labels = test_df[\"encoded_cat\"].to_list()  # Labels\n",
    "\n",
    "# Optional: weitere Aufteilung von Testdaten in Validation und finalen Test, wenn gewünscht.\n",
    "val_texts, final_test_texts, val_labels, final_test_labels = train_test_split(\n",
    "    data_test_texts, data_test_labels, test_size=0.9, random_state=0, shuffle=True\n",
    ")\n",
    "\n",
    "# Tokenisierung\n",
    "train_encodings = tokenizer(train_texts, truncation=True, padding=True)\n",
    "# Tensoren erstellen\n",
    "train_labels = tf.convert_to_tensor(train_labels)\n",
    "train_dataset = tf.data.Dataset.from_tensor_slices((dict(train_encodings), train_labels))\n",
    "\n",
    "early_stopping = tf.keras.callbacks.EarlyStopping(monitor='val_loss', patience=3, restore_best_weights=True)\n",
    "\n",
    "model.fit(\n",
    "    train_dataset.shuffle(1000).batch(16),\n",
    "    epochs=1,\n",
    "    batch_size=16,\n",
    "    validation_data=val_dataset.batch(16),\n",
    "    callbacks=[early_stopping]\n",
    ")"
   ]
  },
  {
   "cell_type": "code",
   "execution_count": 84,
   "metadata": {},
   "outputs": [],
   "source": [
    "save_directory = r\"C:\\Users\\carme\\OneDrive - Appelt Steuerberatung\\Carmen Appelt\\Master\\Semester 3\\DASP\\models\\roberta-base_multiclass_bestmodel_sofar_checked\" \n"
   ]
  },
  {
   "cell_type": "code",
   "execution_count": 85,
   "metadata": {},
   "outputs": [
    {
     "data": {
      "text/plain": [
       "('C:\\\\Users\\\\carme\\\\OneDrive - Appelt Steuerberatung\\\\Carmen Appelt\\\\Master\\\\Semester 3\\\\DASP\\\\models\\\\roberta-base_multiclass_bestmodel_sofar_checked\\\\tokenizer_config.json',\n",
       " 'C:\\\\Users\\\\carme\\\\OneDrive - Appelt Steuerberatung\\\\Carmen Appelt\\\\Master\\\\Semester 3\\\\DASP\\\\models\\\\roberta-base_multiclass_bestmodel_sofar_checked\\\\special_tokens_map.json',\n",
       " 'C:\\\\Users\\\\carme\\\\OneDrive - Appelt Steuerberatung\\\\Carmen Appelt\\\\Master\\\\Semester 3\\\\DASP\\\\models\\\\roberta-base_multiclass_bestmodel_sofar_checked\\\\vocab.txt',\n",
       " 'C:\\\\Users\\\\carme\\\\OneDrive - Appelt Steuerberatung\\\\Carmen Appelt\\\\Master\\\\Semester 3\\\\DASP\\\\models\\\\roberta-base_multiclass_bestmodel_sofar_checked\\\\added_tokens.json')"
      ]
     },
     "execution_count": 85,
     "metadata": {},
     "output_type": "execute_result"
    }
   ],
   "source": [
    "model.save_pretrained(save_directory)\n",
    "tokenizer.save_pretrained(save_directory)\n"
   ]
  },
  {
   "cell_type": "code",
   "execution_count": 86,
   "metadata": {},
   "outputs": [],
   "source": [
    "def predict_category(text):\n",
    "    predict_input = tokenizer.encode(text, truncation=True, padding=True, return_tensors=\"tf\")\n",
    "    output = model(predict_input)[0]\n",
    "    prediction_value = tf.argmax(output, axis=1).numpy()[0]\n",
    "    return prediction_value"
   ]
  },
  {
   "cell_type": "code",
   "execution_count": 87,
   "metadata": {},
   "outputs": [
    {
     "data": {
      "text/plain": [
       "<Figure size 800x600 with 0 Axes>"
      ]
     },
     "metadata": {},
     "output_type": "display_data"
    }
   ],
   "source": [
    "# Vorhersagen auf Testdaten\n",
    "pred = []\n",
    "for v, y in zip(final_test_texts, final_test_labels):\n",
    "    pred.append(predict_category(v))\n",
    "\n",
    "confusion = confusion_matrix(final_test_labels, pred)\n",
    "plt.figure(figsize=(8, 6))\n",
    "sns.set(font_scale=1.2)"
   ]
  },
  {
   "cell_type": "code",
   "execution_count": 88,
   "metadata": {},
   "outputs": [
    {
     "data": {
      "image/png": "[encoded data removed]",
      "text/plain": [
       "<Figure size 640x480 with 1 Axes>"
      ]
     },
     "metadata": {},
     "output_type": "display_data"
    },
    {
     "name": "stdout",
     "output_type": "stream",
     "text": [
      "                       precision    recall  f1-score   support\n",
      "\n",
      "                other       0.05      0.18      0.08        11\n",
      "              clarity       0.58      0.62      0.60       146\n",
      "           comparison       0.55      0.48      0.51        54\n",
      "    motivation-impact       0.29      0.57      0.38        47\n",
      "          originality       0.49      0.58      0.53        60\n",
      "        replicability       0.24      0.19      0.21        42\n",
      "soundness-correctness       0.39      0.35      0.37       113\n",
      "            substance       0.56      0.44      0.50       227\n",
      "                 None       0.83      0.81      0.82       533\n",
      "\n",
      "             accuracy                           0.61      1233\n",
      "            macro avg       0.44      0.47      0.45      1233\n",
      "         weighted avg       0.64      0.61      0.62      1233\n",
      "\n"
     ]
    }
   ],
   "source": [
    "# Passen Sie die Klassenbezeichnungen an Ihre Kategorien an\n",
    "class_names = [\"other\", \"clarity\", \"comparison\", \"motivation-impact\", \"originality\", \"replicability\", \"soundness-correctness\", \"substance\", \"None\"]\n",
    "\n",
    "sns.heatmap(confusion, annot=True, fmt=\"d\", cmap=\"Blues\", cbar=False, square=True,\n",
    "            xticklabels=class_names, yticklabels=class_names)\n",
    "plt.xlabel('Predicted')\n",
    "plt.ylabel('True')\n",
    "plt.title('Confusion Matrix')\n",
    "plt.show()\n",
    "\n",
    "print(classification_report(final_test_labels, pred, target_names=class_names))"
   ]
  },
  {
   "cell_type": "code",
   "execution_count": 89,
   "metadata": {},
   "outputs": [],
   "source": [
    "# # Passen Sie die Klassenbezeichnungen an Ihre Kategorien an\n",
    "# class_names = [\"other\", \"clarity\", \"comparison\", \"motivation-impact\", \"originality\", \"replicability\", \"soundness-correctness\", \"substance\", \"None\"]\n",
    "\n",
    "# sns.heatmap(confusion, annot=True, fmt=\"d\", cmap=\"Blues\", cbar=False, square=True,\n",
    "#             xticklabels=class_names, yticklabels=class_names)\n",
    "# plt.xlabel('Predicted')\n",
    "# plt.ylabel('True')\n",
    "# plt.title('Confusion Matrix')\n",
    "# plt.show()\n",
    "\n",
    "# print(classification_report(final_test_labels, pred, target_names=class_names))"
   ]
  },
  {
   "cell_type": "code",
   "execution_count": 90,
   "metadata": {},
   "outputs": [],
   "source": [
    "# # Passen Sie die Klassenbezeichnungen an Ihre Kategorien an\n",
    "# class_names = [\"other\", \"clarity\", \"comparison\", \"motivation-impact\", \"originality\", \"replicability\", \"soundness-correctness\", \"substance\", \"None\"]\n",
    "\n",
    "# sns.heatmap(confusion, annot=True, fmt=\"d\", cmap=\"Blues\", cbar=False, square=True,\n",
    "#             xticklabels=class_names, yticklabels=class_names)\n",
    "# plt.xlabel('Predicted')\n",
    "# plt.ylabel('True')\n",
    "# plt.title('Confusion Matrix')\n",
    "# plt.show()\n",
    "\n",
    "# print(classification_report(final_test_labels, pred, target_names=class_names))\n"
   ]
  },
  {
   "cell_type": "code",
   "execution_count": 91,
   "metadata": {},
   "outputs": [],
   "source": [
    "# # Passen Sie die Klassenbezeichnungen an Ihre Kategorien an\n",
    "# class_names = [\"other\", \"clarity\", \"comparison\", \"motivation-impact\", \"originality\", \"replicability\", \"soundness-correctness\", \"substance\", \"None\"]\n",
    "\n",
    "# sns.heatmap(confusion, annot=True, fmt=\"d\", cmap=\"Blues\", cbar=False, square=True,\n",
    "#             xticklabels=class_names, yticklabels=class_names)\n",
    "# plt.xlabel('Predicted')\n",
    "# plt.ylabel('True')\n",
    "# plt.title('Confusion Matrix')\n",
    "# plt.show()\n",
    "\n",
    "# print(classification_report(final_test_labels, pred, target_names=class_names))\n"
   ]
  },
  {
   "cell_type": "code",
   "execution_count": null,
   "metadata": {},
   "outputs": [],
   "source": []
  },
  {
   "cell_type": "code",
   "execution_count": null,
   "metadata": {},
   "outputs": [],
   "source": []
  },
  {
   "cell_type": "code",
   "execution_count": null,
   "metadata": {},
   "outputs": [],
   "source": []
  },
  {
   "cell_type": "code",
   "execution_count": null,
   "metadata": {},
   "outputs": [],
   "source": []
  },
  {
   "cell_type": "code",
   "execution_count": 92,
   "metadata": {},
   "outputs": [],
   "source": [
    "# from transformers import RobertaTokenizer, TFRobertaForSequenceClassification\n",
    "\n",
    "# tokenizer = DistilBertTokenizer.from_pretrained(save_directory)\n",
    "\n",
    "# model = TFDistilBertForSequenceClassification.from_pretrained(save_directory, num_labels=9)\n",
    " \n",
    "# # optimizer = tf.keras.optimizers.Adam(learning_rate=5e-5, epsilon=1e-08)\n",
    "# # model.compile(optimizer=optimizer, loss=model.hf_compute_loss, metrics=['accuracy'])\n",
    "\n",
    "# # tokenizer = RobertaTokenizer.from_pretrained(save_directory, from_pt=True)\n",
    "# # model = TFRobertaForSequenceClassification.from_pretrained(save_directory, from_pt=True)"
   ]
  },
  {
   "cell_type": "code",
   "execution_count": 93,
   "metadata": {},
   "outputs": [],
   "source": [
    "# def predict_category(text):\n",
    "#     predict_input = tokenizer.encode(text,\n",
    "#     truncation=True,\n",
    "#     padding=True,\n",
    "#     return_tensors=\"tf\")\n",
    "#     output = model(predict_input)[0]\n",
    "#     prediction_value = tf.argmax(output, axis=1).numpy()[0]\n",
    "#     return prediction_value"
   ]
  },
  {
   "cell_type": "markdown",
   "metadata": {},
   "source": []
  },
  {
   "cell_type": "code",
   "execution_count": 94,
   "metadata": {},
   "outputs": [],
   "source": [
    "# val_labels[0]\n",
    "# val_texts"
   ]
  },
  {
   "cell_type": "code",
   "execution_count": 95,
   "metadata": {},
   "outputs": [],
   "source": [
    "# len(val_texts)"
   ]
  },
  {
   "cell_type": "code",
   "execution_count": 96,
   "metadata": {},
   "outputs": [],
   "source": [
    "# from sklearn.metrics import confusion_matrix\n",
    "# from sklearn.metrics import classification_report\n",
    "# import matplotlib.pyplot as plt\n",
    "# import seaborn as sns\n",
    "\n",
    "# pred = []\n",
    "# for v, y in zip(test_texts, test_labels):\n",
    "#     #print(predict_category(v), \"true: \", y)\n",
    "#     pred.append(predict_category(v))\n",
    "\n",
    "\n",
    "# confusion = confusion_matrix(test_labels, pred)\n",
    "# plt.figure(figsize=(8, 6))\n",
    "# sns.set(font_scale=1.2)\n",
    "# sns.heatmap(confusion, annot=True, fmt=\"d\", cmap=\"Blues\", cbar=False, square=True,\n",
    "# xticklabels=[\"other\", \"clarity\", \"comparison\", \"motivation-impact\", \"originality\", \"replicability\", \"soundness-correctness\",  \"substance\", \"None\"], \n",
    "# yticklabels=[\"other\", \"clarity\", \"comparison\", \"motivation-impact\", \"originality\", \"replicability\", \"soundness-correctness\",  \"substance\", \"None\"])\n",
    "# plt.xlabel('Predicted')\n",
    "# plt.ylabel('True')\n",
    "# plt.title('Confusion Matrix')\n",
    "# plt.show()\n",
    "\n"
   ]
  },
  {
   "cell_type": "code",
   "execution_count": 97,
   "metadata": {},
   "outputs": [],
   "source": [
    "# confusion = confusion_matrix(train_labels, pred)\n",
    "# plt.figure(figsize=(8, 6))\n",
    "# sns.set(font_scale=1.2)\n",
    "# sns.heatmap(confusion, annot=True, fmt=\"d\", cmap=\"Blues\", cbar=False, square=True,\n",
    "# xticklabels=[\"other\", \"clarity\", \"comparison\", \"motivation-impact\", \"originality\", \"replicability\", \"soundness-correctness\",  \"substance\", \"None\"], \n",
    "# yticklabels=[\"other\", \"clarity\", \"comparison\", \"motivation-impact\", \"originality\", \"replicability\", \"soundness-correctness\",  \"substance\", \"None\"])\n",
    "# plt.xlabel('Predicted')\n",
    "# plt.ylabel('True')\n",
    "# plt.title('Confusion Matrix')\n",
    "# plt.show()"
   ]
  },
  {
   "cell_type": "code",
   "execution_count": 98,
   "metadata": {},
   "outputs": [],
   "source": [
    "# from sklearn.metrics import accuracy_score\n",
    "\n",
    "# accuracy = accuracy_score(test_labels, pred)\n",
    "# print('Accuracy:', accuracy)\n",
    "\n",
    "\n",
    "# from sklearn.metrics import precision_score, recall_score, f1_score\n",
    "\n",
    "# precision = precision_score(test_labels, pred, average='weighted')\n",
    "# recall = recall_score(test_labels, pred, average='weighted')\n",
    "# f1 = f1_score(test_labels, pred, average='weighted')\n",
    "\n",
    "# print('Precision:', precision)\n",
    "# print('Recall:', recall)\n",
    "# print('F1-Score:', f1)"
   ]
  },
  {
   "cell_type": "code",
   "execution_count": 99,
   "metadata": {},
   "outputs": [],
   "source": [
    "# from sklearn.metrics import accuracy_score\n",
    "\n",
    "# accuracy = accuracy_score(test_labels, pred)\n",
    "# print('Accuracy:', accuracy)\n",
    "\n",
    "\n",
    "# from sklearn.metrics import precision_score, recall_score, f1_score\n",
    "\n",
    "# precision = precision_score(test_labels, pred, average='weighted')\n",
    "# recall = recall_score(test_labels, pred, average='weighted')\n",
    "# f1 = f1_score(test_labels, pred, average='weighted')\n",
    "\n",
    "# print('Precision:', precision)\n",
    "# print('Recall:', recall)\n",
    "# print('F1-Score:', f1)"
   ]
  },
  {
   "cell_type": "code",
   "execution_count": 100,
   "metadata": {},
   "outputs": [],
   "source": [
    "# from sklearn.metrics import accuracy_score\n",
    "\n",
    "# accuracy = accuracy_score(test_labels, pred)\n",
    "# print('Accuracy:', accuracy)\n",
    "\n",
    "\n",
    "# from sklearn.metrics import precision_score, recall_score, f1_score\n",
    "\n",
    "# precision = precision_score(test_labels, pred, average='weighted')\n",
    "# recall = recall_score(test_labels, pred, average='weighted')\n",
    "# f1 = f1_score(test_labels, pred, average='weighted')\n",
    "\n",
    "# print('Precision:', precision)\n",
    "# print('Recall:', recall)\n",
    "# print('F1-Score:', f1)"
   ]
  },
  {
   "cell_type": "code",
   "execution_count": 101,
   "metadata": {},
   "outputs": [],
   "source": [
    "# from sklearn.metrics import accuracy_score, precision_score, classification_report\n",
    "# import numpy as np\n",
    "\n",
    "\n",
    "# # Umwandlung in NumPy Arrays (falls noch nicht)\n",
    "# test_labels = np.array(test_labels)\n",
    "# pred = np.array(pred)\n",
    "\n",
    "# # Accuracy und Precision pro Klasse berechnen\n",
    "# unique_classes = np.unique(test_labels)\n",
    "\n",
    "# # Initialisiere Dictionaries für die Ergebnisse\n",
    "# accuracy_per_class = {}\n",
    "# precision_per_class = {}\n",
    "\n",
    "# for cls in unique_classes:\n",
    "#     # Filtere die Instanzen für die aktuelle Klasse\n",
    "#     true_positive = np.sum((test_labels == cls) & (pred == cls))\n",
    "#     total_class_instances = np.sum(test_labels == cls)\n",
    "    \n",
    "#     # Accuracy für diese Klasse\n",
    "#     accuracy_per_class[cls] = true_positive / total_class_instances\n",
    "    \n",
    "#     # Precision für diese Klasse\n",
    "#     precision_per_class[cls] = precision_score(test_labels, pred, labels=[cls], average=None)[0]\n",
    "\n",
    "# # Ergebnisse ausgeben\n",
    "# print(\"Accuracy per class:\")\n",
    "# for cls, acc in accuracy_per_class.items():\n",
    "#     print(f\"Class {cls}: {acc:.2f}\")\n",
    "\n",
    "# print(\"\\nPrecision per class:\")\n",
    "# for cls, prec in precision_per_class.items():\n",
    "#     print(f\"Class {cls}: {prec:.2f}\")\n",
    "\n",
    "# # Zusätzliche detaillierte Metriken für alle Klassen\n",
    "# print(\"\\nClassification Report:\")\n",
    "# print(classification_report(test_labels, pred, target_names=[f\"Class {cls}\" for cls in unique_classes]))\n"
   ]
  }
 ],
 "metadata": {
  "kernelspec": {
   "display_name": "Python 3",
   "language": "python",
   "name": "python3"
  },
  "language_info": {
   "codemirror_mode": {
    "name": "ipython",
    "version": 3
   },
   "file_extension": ".py",
   "mimetype": "text/x-python",
   "name": "python",
   "nbconvert_exporter": "python",
   "pygments_lexer": "ipython3",
   "version": "3.11.5"
  }
 },
 "nbformat": 4,
 "nbformat_minor": 2
}
