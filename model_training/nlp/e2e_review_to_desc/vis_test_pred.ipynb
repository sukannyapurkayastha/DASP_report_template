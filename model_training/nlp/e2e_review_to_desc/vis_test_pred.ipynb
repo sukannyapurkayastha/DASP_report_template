{
 "cells": [
  {
   "cell_type": "code",
   "execution_count": 2,
   "metadata": {},
   "outputs": [
    {
     "name": "stdout",
     "output_type": "stream",
     "text": [
      "Collecting pandas\n",
      "  Downloading pandas-2.2.3-cp310-cp310-win_amd64.whl.metadata (19 kB)\n",
      "Collecting numpy>=1.22.4 (from pandas)\n",
      "  Downloading numpy-2.1.3-cp310-cp310-win_amd64.whl.metadata (60 kB)\n",
      "Requirement already satisfied: python-dateutil>=2.8.2 in d:\\miniconda3\\envs\\nlp_lab\\lib\\site-packages (from pandas) (2.9.0.post0)\n",
      "Collecting pytz>=2020.1 (from pandas)\n",
      "  Downloading pytz-2024.2-py2.py3-none-any.whl.metadata (22 kB)\n",
      "Collecting tzdata>=2022.7 (from pandas)\n",
      "  Downloading tzdata-2024.2-py2.py3-none-any.whl.metadata (1.4 kB)\n",
      "Requirement already satisfied: six>=1.5 in d:\\miniconda3\\envs\\nlp_lab\\lib\\site-packages (from python-dateutil>=2.8.2->pandas) (1.16.0)\n",
      "Downloading pandas-2.2.3-cp310-cp310-win_amd64.whl (11.6 MB)\n",
      "   ---------------------------------------- 0.0/11.6 MB ? eta -:--:--\n",
      "   ------- -------------------------------- 2.1/11.6 MB 11.8 MB/s eta 0:00:01\n",
      "   --------------- ------------------------ 4.5/11.6 MB 11.2 MB/s eta 0:00:01\n",
      "   ------------------------ --------------- 7.1/11.6 MB 11.2 MB/s eta 0:00:01\n",
      "   ------------------------------- -------- 9.2/11.6 MB 11.2 MB/s eta 0:00:01\n",
      "   ---------------------------------------  11.5/11.6 MB 11.1 MB/s eta 0:00:01\n",
      "   ---------------------------------------- 11.6/11.6 MB 10.8 MB/s eta 0:00:00\n",
      "Downloading numpy-2.1.3-cp310-cp310-win_amd64.whl (12.9 MB)\n",
      "   ---------------------------------------- 0.0/12.9 MB ? eta -:--:--\n",
      "   ------- -------------------------------- 2.4/12.9 MB 11.2 MB/s eta 0:00:01\n",
      "   -------------- ------------------------- 4.7/12.9 MB 11.0 MB/s eta 0:00:01\n",
      "   --------------------- ------------------ 6.8/12.9 MB 11.0 MB/s eta 0:00:01\n",
      "   ---------------------------- ----------- 9.2/12.9 MB 11.0 MB/s eta 0:00:01\n",
      "   ----------------------------------- ---- 11.5/12.9 MB 11.1 MB/s eta 0:00:01\n",
      "   ---------------------------------------- 12.9/12.9 MB 10.8 MB/s eta 0:00:00\n",
      "Downloading pytz-2024.2-py2.py3-none-any.whl (508 kB)\n",
      "Downloading tzdata-2024.2-py2.py3-none-any.whl (346 kB)\n",
      "Installing collected packages: pytz, tzdata, numpy, pandas\n",
      "Successfully installed numpy-2.1.3 pandas-2.2.3 pytz-2024.2 tzdata-2024.2\n",
      "Note: you may need to restart the kernel to use updated packages.\n"
     ]
    }
   ],
   "source": [
    "%pip install pandas"
   ]
  },
  {
   "cell_type": "code",
   "execution_count": 2,
   "metadata": {},
   "outputs": [
    {
     "name": "stdout",
     "output_type": "stream",
     "text": [
      "                                             reviews  \\\n",
      "0  They start from Equation (4) which is incorrec...   \n",
      "1  It seems there is no conclusion to take away f...   \n",
      "2  The authors do not explicitly define continual...   \n",
      "3  Generally speaking it seems like a lot of tech...   \n",
      "4  ii) Although the idea of generating contrastiv...   \n",
      "\n",
      "                                               descs  \n",
      "0  generalizability of method on datasets created...  \n",
      "1  Lack of discussion of experimental setup (conc...  \n",
      "2                      Unclear description of method  \n",
      "3                          Limited impact of results  \n",
      "4  The main reason is that from the narration, I ...  \n"
     ]
    }
   ],
   "source": [
    "import pandas as pd\n",
    "\n",
    "# Read the CSV file with tab delimiter\n",
    "file_path = 'data/test.csv'  # Replace with your file path\n",
    "df = pd.read_csv(file_path, delimiter='\\t')\n",
    "\n",
    "# Display the DataFrame\n",
    "print(df.head())\n"
   ]
  },
  {
   "cell_type": "code",
   "execution_count": 5,
   "metadata": {},
   "outputs": [
    {
     "name": "stdout",
     "output_type": "stream",
     "text": [
      "Rows match! Text content added as a new column.\n"
     ]
    }
   ],
   "source": [
    "# Read the content of the .txt file\n",
    "with open('t5-large-output/10/1e-4/generated_predictions.txt', 'r') as file:  # Replace 'file.txt' with the path to your text file\n",
    "    generated_predictions = file.readlines()  # Read each line into a list\n",
    "\n",
    "# Check if the rows match\n",
    "if len(df) == len(generated_predictions):\n",
    "    # Add the text file content as a new column\n",
    "    df['new_column'] = [line.strip() for line in generated_predictions]\n",
    "    print(\"Rows match! Text content added as a new column.\")\n",
    "else:\n",
    "    print(f\"Row mismatch: DataFrame has {len(df)} rows, but the text file has {len(generated_predictions)} lines.\")\n",
    "\n",
    "# Display the updated DataFrame\n",
    "df.to_csv('vis_test_pred.csv', sep='\\t', index=False)"
   ]
  }
 ],
 "metadata": {
  "kernelspec": {
   "display_name": "nlp_lab",
   "language": "python",
   "name": "python3"
  },
  "language_info": {
   "codemirror_mode": {
    "name": "ipython",
    "version": 3
   },
   "file_extension": ".py",
   "mimetype": "text/x-python",
   "name": "python",
   "nbconvert_exporter": "python",
   "pygments_lexer": "ipython3",
   "version": "3.10.15"
  }
 },
 "nbformat": 4,
 "nbformat_minor": 2
}
