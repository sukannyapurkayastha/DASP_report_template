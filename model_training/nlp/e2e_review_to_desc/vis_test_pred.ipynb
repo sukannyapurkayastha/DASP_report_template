{
 "cells": [
  {
   "cell_type": "code",
   "execution_count": 1,
   "metadata": {},
   "outputs": [
    {
     "name": "stdout",
     "output_type": "stream",
     "text": [
      "Requirement already satisfied: pandas in d:\\miniconda3\\envs\\nlp_lab\\lib\\site-packages (2.2.3)\n",
      "Requirement already satisfied: numpy>=1.22.4 in d:\\miniconda3\\envs\\nlp_lab\\lib\\site-packages (from pandas) (2.1.3)\n",
      "Requirement already satisfied: python-dateutil>=2.8.2 in d:\\miniconda3\\envs\\nlp_lab\\lib\\site-packages (from pandas) (2.9.0.post0)\n",
      "Requirement already satisfied: pytz>=2020.1 in d:\\miniconda3\\envs\\nlp_lab\\lib\\site-packages (from pandas) (2024.2)\n",
      "Requirement already satisfied: tzdata>=2022.7 in d:\\miniconda3\\envs\\nlp_lab\\lib\\site-packages (from pandas) (2024.2)\n",
      "Requirement already satisfied: six>=1.5 in d:\\miniconda3\\envs\\nlp_lab\\lib\\site-packages (from python-dateutil>=2.8.2->pandas) (1.16.0)\n",
      "Note: you may need to restart the kernel to use updated packages.\n"
     ]
    }
   ],
   "source": [
    "%pip install pandas"
   ]
  },
  {
   "cell_type": "code",
   "execution_count": 7,
   "metadata": {},
   "outputs": [
    {
     "name": "stdout",
     "output_type": "stream",
     "text": [
      "                                             reviews  \\\n",
      "0  They start from Equation (4) which is incorrec...   \n",
      "1  It seems there is no conclusion to take away f...   \n",
      "2  The authors do not explicitly define continual...   \n",
      "3  Generally speaking it seems like a lot of tech...   \n",
      "4  ii) Although the idea of generating contrastiv...   \n",
      "\n",
      "                                               descs  \n",
      "0  generalizability of method on datasets created...  \n",
      "1  Lack of discussion of experimental setup (conc...  \n",
      "2                      Unclear description of method  \n",
      "3                          Limited impact of results  \n",
      "4  The main reason is that from the narration, I ...  \n"
     ]
    }
   ],
   "source": [
    "import pandas as pd\n",
    "\n",
    "# Read the CSV file with tab delimiter\n",
    "file_path = 'data/test.csv'  # Replace with your file path\n",
    "df = pd.read_csv(file_path, delimiter='\\t')\n",
    "\n",
    "# Display the DataFrame\n",
    "print(df.head())\n"
   ]
  },
  {
   "cell_type": "code",
   "execution_count": 8,
   "metadata": {},
   "outputs": [
    {
     "name": "stdout",
     "output_type": "stream",
     "text": [
      "Rows match! Text content added as a new column.\n",
      "                                             reviews  \\\n",
      "0  They start from Equation (4) which is incorrec...   \n",
      "1  It seems there is no conclusion to take away f...   \n",
      "2  The authors do not explicitly define continual...   \n",
      "3  Generally speaking it seems like a lot of tech...   \n",
      "4  ii) Although the idea of generating contrastiv...   \n",
      "\n",
      "                                               descs  \\\n",
      "0  generalizability of method on datasets created...   \n",
      "1  Lack of discussion of experimental setup (conc...   \n",
      "2                      Unclear description of method   \n",
      "3                          Limited impact of results   \n",
      "4  The main reason is that from the narration, I ...   \n",
      "\n",
      "                                                pred  \n",
      "0  Missing details on methodology (eg., use of no...  \n",
      "1               Experimental study not strong enough  \n",
      "2  Missing details on methodology (eg., use of no...  \n",
      "3        generalizability of results is questionable  \n",
      "4    Incomplete details on perfromance of the method  \n"
     ]
    }
   ],
   "source": [
    "# Read the content of the .txt file\n",
    "with open('t5-large-output/10/1e-4/generated_predictions.txt', 'r') as file:  # Replace 'file.txt' with the path to your text file\n",
    "    generated_predictions = file.readlines()  # Read each line into a list\n",
    "\n",
    "# Check if the rows match\n",
    "if len(df) == len(generated_predictions):\n",
    "    # Add the text file content as a new column\n",
    "    df['pred'] = [line.strip() for line in generated_predictions]\n",
    "    print(\"Rows match! Text content added as a new column.\")\n",
    "else:\n",
    "    print(f\"Row mismatch: DataFrame has {len(df)} rows, but the text file has {len(generated_predictions)} lines.\")\n",
    "\n",
    "# Display the updated DataFrame\n",
    "df.to_csv('vis_test_pred.csv', sep='\\t', index=False)\n",
    "\n",
    "print(df.head())"
   ]
  },
  {
   "cell_type": "markdown",
   "metadata": {},
   "source": [
    "## similarity evaluation"
   ]
  },
  {
   "cell_type": "code",
   "execution_count": 4,
   "metadata": {},
   "outputs": [
    {
     "name": "stderr",
     "output_type": "stream",
     "text": [
      "d:\\miniconda3\\envs\\nlp_lab\\lib\\site-packages\\tqdm\\auto.py:21: TqdmWarning: IProgress not found. Please update jupyter and ipywidgets. See https://ipywidgets.readthedocs.io/en/stable/user_install.html\n",
      "  from .autonotebook import tqdm as notebook_tqdm\n"
     ]
    }
   ],
   "source": [
    "from sentence_transformers import SentenceTransformer\n",
    "from sklearn.metrics.pairwise import cosine_similarity\n",
    "import Levenshtein"
   ]
  },
  {
   "cell_type": "code",
   "execution_count": null,
   "metadata": {},
   "outputs": [
    {
     "name": "stdout",
     "output_type": "stream",
     "text": [
      "                                               reviews  \\\n",
      "0    They start from Equation (4) which is incorrec...   \n",
      "1    It seems there is no conclusion to take away f...   \n",
      "2    The authors do not explicitly define continual...   \n",
      "3    Generally speaking it seems like a lot of tech...   \n",
      "4    ii) Although the idea of generating contrastiv...   \n",
      "..                                                 ...   \n",
      "462  It seems that the sampled reconstruction resul...   \n",
      "463  Table 1 tries to provide some comparisons on A...   \n",
      "464  - What is the choice of beta in the beta-VAE t...   \n",
      "465  1. The formulation uses REINFORCE, which is of...   \n",
      "466  Since the alt-az convolution is not isotropic ...   \n",
      "\n",
      "                                                 descs  \\\n",
      "0    generalizability of method on datasets created...   \n",
      "1    Lack of discussion of experimental setup (conc...   \n",
      "2                        Unclear description of method   \n",
      "3                            Limited impact of results   \n",
      "4    The main reason is that from the narration, I ...   \n",
      "..                                                 ...   \n",
      "462        generalizability of results is questionable   \n",
      "463  Incomplete ablation in terms of tables and fig...   \n",
      "464                      Unclear description of method   \n",
      "465    Incomplete details on perfromance of the method   \n",
      "466                  Correctness of algorithm proposed   \n",
      "\n",
      "                                                  pred  embedding_similarity  \\\n",
      "0    Missing details on methodology (eg., use of no...              0.197809   \n",
      "1                 Experimental study not strong enough              0.573512   \n",
      "2    Missing details on methodology (eg., use of no...              0.392922   \n",
      "3          generalizability of results is questionable              0.606378   \n",
      "4      Incomplete details on perfromance of the method              0.303185   \n",
      "..                                                 ...                   ...   \n",
      "462  Incomprehensible tables and figures (what is t...              0.136786   \n",
      "463  Incomprehensible tables and figures (what is t...              0.407769   \n",
      "464  Missing details on methodology (eg., use of no...              0.392922   \n",
      "465  Missing details on methodology (eg., use of no...              0.353023   \n",
      "466                  Correctness of algorithm proposed              1.000000   \n",
      "\n",
      "     edit_similarity  \n",
      "0           0.263736  \n",
      "1           0.225490  \n",
      "2           0.208333  \n",
      "3           0.279070  \n",
      "4           0.177632  \n",
      "..               ...  \n",
      "462         0.218182  \n",
      "463         0.309091  \n",
      "464         0.208333  \n",
      "465         0.277778  \n",
      "466         1.000000  \n",
      "\n",
      "[467 rows x 5 columns]\n"
     ]
    }
   ],
   "source": [
    "model = SentenceTransformer('all-MiniLM-L6-v2')\n",
    "\n",
    "# Function to compute cosine similarity between embeddings\n",
    "def compute_embedding_similarity(prediction, label):\n",
    "    pred_embedding = model.encode([prediction])\n",
    "    label_embedding = model.encode([label])\n",
    "    return cosine_similarity(pred_embedding, label_embedding)[0][0]\n",
    "\n",
    "# Function to compute Levenshtein (edit) distance normalized by length\n",
    "def compute_edit_distance(prediction, label):\n",
    "    edit_dist = Levenshtein.distance(prediction, label)\n",
    "    max_len = max(len(prediction), len(label))\n",
    "    return 1 - (edit_dist / max_len)  # Normalize and return similarity\n",
    "\n",
    "# Apply embedding similarity and edit distance to the DataFrame\n",
    "df['embedding_similarity'] = df.apply(\n",
    "    lambda row: compute_embedding_similarity(row['pred'], row['descs']),\n",
    "    axis=1\n",
    ")\n",
    "\n",
    "df['edit_similarity'] = df.apply(\n",
    "    lambda row: compute_edit_distance(row['pred'], row['descs']),\n",
    "    axis=1\n",
    ")\n",
    "\n",
    "# Display results\n",
    "print(df.head())"
   ]
  },
  {
   "cell_type": "code",
   "execution_count": 10,
   "metadata": {},
   "outputs": [
    {
     "name": "stdout",
     "output_type": "stream",
     "text": [
      "                                             reviews  \\\n",
      "0  They start from Equation (4) which is incorrec...   \n",
      "1  It seems there is no conclusion to take away f...   \n",
      "2  The authors do not explicitly define continual...   \n",
      "3  Generally speaking it seems like a lot of tech...   \n",
      "4  ii) Although the idea of generating contrastiv...   \n",
      "\n",
      "                                               descs  \\\n",
      "0  generalizability of method on datasets created...   \n",
      "1  Lack of discussion of experimental setup (conc...   \n",
      "2                      Unclear description of method   \n",
      "3                          Limited impact of results   \n",
      "4  The main reason is that from the narration, I ...   \n",
      "\n",
      "                                                pred  embedding_similarity  \\\n",
      "0  Missing details on methodology (eg., use of no...              0.197809   \n",
      "1               Experimental study not strong enough              0.573512   \n",
      "2  Missing details on methodology (eg., use of no...              0.392922   \n",
      "3        generalizability of results is questionable              0.606378   \n",
      "4    Incomplete details on perfromance of the method              0.303185   \n",
      "\n",
      "   edit_similarity  \n",
      "0         0.263736  \n",
      "1         0.225490  \n",
      "2         0.208333  \n",
      "3         0.279070  \n",
      "4         0.177632  \n"
     ]
    }
   ],
   "source": [
    "print(df.head())"
   ]
  },
  {
   "cell_type": "code",
   "execution_count": 11,
   "metadata": {},
   "outputs": [
    {
     "data": {
      "image/png": "[encoded data removed]",
      "text/plain": [
       "<Figure size 1200x600 with 2 Axes>"
      ]
     },
     "metadata": {},
     "output_type": "display_data"
    }
   ],
   "source": [
    "import matplotlib.pyplot as plt\n",
    "\n",
    "\n",
    "# Plot settings\n",
    "plt.figure(figsize=(12, 6))\n",
    "\n",
    "# Embedding similarity histogram\n",
    "plt.subplot(1, 2, 1)\n",
    "plt.hist(df['embedding_similarity'], bins=10, color='blue', alpha=0.7, edgecolor='black')\n",
    "plt.title('Embedding Similarity Distribution')\n",
    "plt.xlabel('Embedding Similarity')\n",
    "plt.ylabel('Frequency')\n",
    "\n",
    "# Edit similarity histogram\n",
    "plt.subplot(1, 2, 2)\n",
    "plt.hist(df['edit_similarity'], bins=10, color='green', alpha=0.7, edgecolor='black')\n",
    "plt.title('Edit Similarity Distribution')\n",
    "plt.xlabel('Edit Similarity')\n",
    "plt.ylabel('Frequency')\n",
    "\n",
    "# Display the plot\n",
    "plt.tight_layout()\n",
    "plt.show()"
   ]
  },
  {
   "cell_type": "code",
   "execution_count": 18,
   "metadata": {},
   "outputs": [
    {
     "name": "stdout",
     "output_type": "stream",
     "text": [
      "Mean Similarity: 0.53\n",
      "Mean Similarity: 0.46\n"
     ]
    }
   ],
   "source": [
    "mean_similarity = df['embedding_similarity'].mean()\n",
    "print(f\"Mean Similarity: {mean_similarity:.2f}\")\n",
    "mean_distance = df['edit_similarity'].mean()\n",
    "print(f\"Mean Similarity: {mean_distance:.2f}\")"
   ]
  }
 ],
 "metadata": {
  "kernelspec": {
   "display_name": "jitsupeer_310",
   "language": "python",
   "name": "python3"
  },
  "language_info": {
   "codemirror_mode": {
    "name": "ipython",
    "version": 3
   },
   "file_extension": ".py",
   "mimetype": "text/x-python",
   "name": "python",
   "nbconvert_exporter": "python",
   "pygments_lexer": "ipython3",
   "version": "3.10.15"
  }
 },
 "nbformat": 4,
 "nbformat_minor": 2
}
