{
 "cells": [
  {
   "cell_type": "code",
   "execution_count": 11,
   "metadata": {},
   "outputs": [
    {
     "name": "stderr",
     "output_type": "stream",
     "text": [
      "C:\\Users\\Yangzhi\\AppData\\Local\\Temp\\ipykernel_26268\\3470682082.py:57: FutureWarning: The behavior of DataFrame concatenation with empty or all-NA entries is deprecated. In a future version, this will no longer exclude empty or all-NA columns when determining the result dtypes. To retain the old behavior, exclude the relevant entries before the concat operation.\n",
      "  df = pd.concat([df, new_row], ignore_index=True)\n"
     ]
    }
   ],
   "source": [
    "import os\n",
    "import json\n",
    "import pandas as pd\n",
    "\n",
    "# Define the base directories\n",
    "base_dirs = ['bert-base-uncased_all', 'bert-base-uncased_neg', 'roberta-base_all']\n",
    "\n",
    "# Function to navigate through subfolders and read the JSON files\n",
    "def read_epoch_lr_json(base_dirs, df):\n",
    "    epoch_value = 0\n",
    "    lr_value = 0\n",
    "    for base_dir in base_dirs:\n",
    "        # Iterate through subfolders A, B, C, D, E, F\n",
    "        if os.path.exists(base_dir):\n",
    "            for epoch_folder in os.listdir(base_dir):\n",
    "                epoch_folder_path = os.path.join(base_dir, epoch_folder)\n",
    "\n",
    "                # Check if the folder name is an integer (epoch value)\n",
    "                if os.path.isdir(epoch_folder_path) and epoch_folder.isdigit():\n",
    "                    epoch_value = int(epoch_folder)\n",
    "\n",
    "                    for lr_folder in os.listdir(epoch_folder_path):\n",
    "                        lr_folder_path = os.path.join(epoch_folder_path, lr_folder)\n",
    "\n",
    "                        # Check if the folder name is a valid learning rate (float value)\n",
    "                        try:\n",
    "                            lr_value = float(lr_folder)\n",
    "                        except ValueError:\n",
    "                            continue  # Skip folders that do not represent learning rate\n",
    "\n",
    "                        # Now, look for the json file in the learning rate folder\n",
    "                        json_file_path = os.path.join(lr_folder_path, 'all_results.json')\n",
    "\n",
    "                        if os.path.isfile(json_file_path):\n",
    "                            # Read the JSON file\n",
    "                            with open(json_file_path, 'r') as f:\n",
    "                                json_data = json.load(f)\n",
    "                            \n",
    "                            # Store the result with epoch, learning rate, and json content\n",
    "                            # Extract necessary values\n",
    "                            eval_accuracy = json_data.get('eval_accuracy', None)\n",
    "                            eval_f1 = json_data.get('eval_f1', None)\n",
    "                            eval_precision = json_data.get('eval_precision', None)\n",
    "                            eval_recall = json_data.get('eval_recall', None)\n",
    "\n",
    "                            # Create a new row with the current values\n",
    "                            new_row = pd.DataFrame([{\n",
    "                                'model_name': base_dir,  # model_name corresponds to the base_dir\n",
    "                                'epoch': epoch_value,\n",
    "                                'learning_rate': lr_value,\n",
    "                                'eval_accuracy': eval_accuracy,\n",
    "                                'eval_f1': eval_f1,\n",
    "                                'eval_precision': eval_precision,\n",
    "                                'eval_recall': eval_recall\n",
    "                            }])\n",
    "                            # Append the new row to the DataFrame\n",
    "                            df = pd.concat([df, new_row], ignore_index=True)\n",
    "\n",
    "    return df, epoch_value, lr_value\n",
    "\n",
    "# Run the function and print the results\n",
    "# Initialize an empty DataFrame with the specified columns\n",
    "columns = ['model_name', 'epoch', 'learning_rate', 'eval_accuracy', 'eval_f1', 'eval_precision', 'eval_recall']\n",
    "df = pd.DataFrame(columns=columns)\n",
    "results, e, lr = read_epoch_lr_json(base_dirs,df)\n",
    "results.to_csv(f'{e}_{lr}_eval_results.csv', index=False)\n",
    "\n"
   ]
  },
  {
   "cell_type": "code",
   "execution_count": 10,
   "metadata": {},
   "outputs": [
    {
     "data": {
      "text/html": [
       "<div>\n",
       "<style scoped>\n",
       "    .dataframe tbody tr th:only-of-type {\n",
       "        vertical-align: middle;\n",
       "    }\n",
       "\n",
       "    .dataframe tbody tr th {\n",
       "        vertical-align: top;\n",
       "    }\n",
       "\n",
       "    .dataframe thead th {\n",
       "        text-align: right;\n",
       "    }\n",
       "</style>\n",
       "<table border=\"1\" class=\"dataframe\">\n",
       "  <thead>\n",
       "    <tr style=\"text-align: right;\">\n",
       "      <th></th>\n",
       "      <th>model_name</th>\n",
       "      <th>epoch</th>\n",
       "      <th>learning_rate</th>\n",
       "      <th>eval_accuracy</th>\n",
       "      <th>eval_f1</th>\n",
       "      <th>eval_precision</th>\n",
       "      <th>eval_recall</th>\n",
       "    </tr>\n",
       "  </thead>\n",
       "  <tbody>\n",
       "    <tr>\n",
       "      <th>0</th>\n",
       "      <td>bert-base-uncased_all</td>\n",
       "      <td>10</td>\n",
       "      <td>0.00005</td>\n",
       "      <td>0.787879</td>\n",
       "      <td>0.789150</td>\n",
       "      <td>0.787092</td>\n",
       "      <td>0.807493</td>\n",
       "    </tr>\n",
       "    <tr>\n",
       "      <th>1</th>\n",
       "      <td>bert-base-uncased_neg</td>\n",
       "      <td>10</td>\n",
       "      <td>0.00005</td>\n",
       "      <td>0.798898</td>\n",
       "      <td>0.816993</td>\n",
       "      <td>0.879555</td>\n",
       "      <td>0.795769</td>\n",
       "    </tr>\n",
       "  </tbody>\n",
       "</table>\n",
       "</div>"
      ],
      "text/plain": [
       "              model_name epoch  learning_rate  eval_accuracy   eval_f1  \\\n",
       "0  bert-base-uncased_all    10        0.00005       0.787879  0.789150   \n",
       "1  bert-base-uncased_neg    10        0.00005       0.798898  0.816993   \n",
       "\n",
       "   eval_precision  eval_recall  \n",
       "0        0.787092     0.807493  \n",
       "1        0.879555     0.795769  "
      ]
     },
     "execution_count": 10,
     "metadata": {},
     "output_type": "execute_result"
    }
   ],
   "source": [
    "results.head()"
   ]
  }
 ],
 "metadata": {
  "kernelspec": {
   "display_name": "nlp_lab",
   "language": "python",
   "name": "python3"
  },
  "language_info": {
   "codemirror_mode": {
    "name": "ipython",
    "version": 3
   },
   "file_extension": ".py",
   "mimetype": "text/x-python",
   "name": "python",
   "nbconvert_exporter": "python",
   "pygments_lexer": "ipython3",
   "version": "3.10.15"
  }
 },
 "nbformat": 4,
 "nbformat_minor": 2
}
