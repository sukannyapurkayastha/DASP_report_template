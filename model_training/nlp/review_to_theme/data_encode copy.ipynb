{
 "cells": [
  {
   "cell_type": "code",
   "execution_count": 1,
   "metadata": {},
   "outputs": [
    {
     "name": "stdout",
     "output_type": "stream",
     "text": [
      "Index(['sentence', 'aspect', 'theme', 'description', 'labels', 'ANA', 'BIB',\n",
      "       'DAT', 'EXP', 'INT', 'MET', 'OAL', 'PDI', 'RES', 'RWK', 'TNF'],\n",
      "      dtype='object')\n"
     ]
    }
   ],
   "source": [
    "import pandas as pd\n",
    "from sklearn.preprocessing import MultiLabelBinarizer\n",
    "\n",
    "df = pd.read_csv('data.csv')\n",
    "df['theme'] = df['theme'].apply(lambda x: x.split('_'))\n",
    "\n",
    "# Step 3: Initialize MultiLabelBinarizer\n",
    "mlb = MultiLabelBinarizer()\n",
    "\n",
    "# Step 4: One-hot encode the themes\n",
    "encoded_labels = mlb.fit_transform(df['theme'])\n",
    "\n",
    "# Step 5: Create a DataFrame for the encoded labels\n",
    "df_encoded = pd.DataFrame(encoded_labels, columns=mlb.classes_)\n",
    "df_encoded = df_encoded.astype(float)\n",
    "\n",
    "# Step 6: Convert the one-hot encoded columns back to a list of labels\n",
    "df['labels'] = df_encoded.values.tolist()\n",
    "\n",
    "# Step 6: Combine the original dataframe with the encoded labels\n",
    "df = pd.concat([df, df_encoded], axis=1)\n",
    "\n",
    "# Step 7: Print the processed DataFrame\n",
    "print(df.columns)\n",
    "\n",
    "df.to_csv('data_encoded.csv', index=False)"
   ]
  },
  {
   "cell_type": "code",
   "execution_count": 2,
   "metadata": {},
   "outputs": [
    {
     "name": "stdout",
     "output_type": "stream",
     "text": [
      "ANA     45.0\n",
      "BIB     17.0\n",
      "DAT    124.0\n",
      "EXP    261.0\n",
      "INT     13.0\n",
      "MET    937.0\n",
      "OAL    121.0\n",
      "PDI     38.0\n",
      "RES    165.0\n",
      "RWK    227.0\n",
      "TNF    108.0\n",
      "dtype: float64\n"
     ]
    }
   ],
   "source": [
    "# Calculate the frequency of each label\n",
    "label_counts = df_encoded.sum(axis=0)\n",
    "\n",
    "# Print the counts for each label\n",
    "print(label_counts)"
   ]
  },
  {
   "cell_type": "code",
   "execution_count": 3,
   "metadata": {},
   "outputs": [
    {
     "name": "stderr",
     "output_type": "stream",
     "text": [
      "/home/nana/anaconda3/envs/model_training/lib/python3.10/site-packages/tqdm/auto.py:21: TqdmWarning: IProgress not found. Please update jupyter and ipywidgets. See https://ipywidgets.readthedocs.io/en/stable/user_install.html\n",
      "  from .autonotebook import tqdm as notebook_tqdm\n"
     ]
    }
   ],
   "source": [
    "df_train = df[['sentence', 'labels']]\n",
    "from datasets import Dataset\n",
    "# Convert DataFrame to Dataset\n",
    "dataset = Dataset.from_pandas(df_train)"
   ]
  },
  {
   "cell_type": "code",
   "execution_count": 4,
   "metadata": {},
   "outputs": [
    {
     "name": "stderr",
     "output_type": "stream",
     "text": [
      "Some weights of BertForSequenceClassification were not initialized from the model checkpoint at /home/nana/EMNLP2023_jiu_jitsu_argumentation_for_rebuttals/JitsuPEER_data_and_models_v1/models/bert-base-uncased_neg and are newly initialized: ['bert.pooler.dense.bias', 'bert.pooler.dense.weight', 'classifier.bias', 'classifier.weight']\n",
      "You should probably TRAIN this model on a down-stream task to be able to use it for predictions and inference.\n",
      "Map: 100%|██████████| 1811/1811 [00:01<00:00, 1797.45 examples/s]\n"
     ]
    }
   ],
   "source": [
    "from transformers import BertTokenizer, BertForSequenceClassification\n",
    "from torch.nn import BCEWithLogitsLoss\n",
    "import torch\n",
    "from sklearn.metrics import f1_score, accuracy_score\n",
    "from transformers import TrainingArguments\n",
    "\n",
    "\n",
    "num_themes = 11\n",
    "# Load the pretrained MLM model\n",
    "#\"../../JitsuPEER_data_and_models_v1/models/bert-base-uncased_neg\"\n",
    "model = BertForSequenceClassification.from_pretrained(\"/home/nana/EMNLP2023_jiu_jitsu_argumentation_for_rebuttals/JitsuPEER_data_and_models_v1/models/bert-base-uncased_neg\", num_labels=num_themes, problem_type=\"multi_label_classification\")\n",
    "# Initialize the tokenizer\n",
    "tokenizer = BertTokenizer.from_pretrained(\"bert-base-uncased\")\n",
    "\n",
    "# Tokenize your dataset\n",
    "def tokenize_function(examples):\n",
    "    return tokenizer(examples[\"sentence\"], truncation=True, padding=\"max_length\", max_length=128)\n",
    "\n",
    "# Assuming dataset has columns 'text' and 'labels' (labels should be a binary vector per example)\n",
    "dataset = dataset.map(tokenize_function, batched=True)\n"
   ]
  },
  {
   "cell_type": "code",
   "execution_count": 5,
   "metadata": {},
   "outputs": [],
   "source": [
    "dataset = dataset.train_test_split(test_size=0.2)  # 80% train, 20% test\n",
    "train_dataset = dataset['train']\n",
    "test_dataset = dataset['test']\n",
    "\n",
    "# Ensure the dataset is in the correct format (PyTorch or TensorFlow format)\n",
    "train_dataset.set_format(type='torch', columns=['input_ids', 'attention_mask', 'labels'])\n",
    "test_dataset.set_format(type='torch', columns=['input_ids', 'attention_mask', 'labels'])\n"
   ]
  },
  {
   "cell_type": "code",
   "execution_count": 6,
   "metadata": {},
   "outputs": [
    {
     "name": "stderr",
     "output_type": "stream",
     "text": [
      "/home/nana/anaconda3/envs/model_training/lib/python3.10/site-packages/transformers/training_args.py:1568: FutureWarning: `evaluation_strategy` is deprecated and will be removed in version 4.46 of 🤗 Transformers. Use `eval_strategy` instead\n",
      "  warnings.warn(\n"
     ]
    },
    {
     "data": {
      "text/html": [
       "\n",
       "    <div>\n",
       "      \n",
       "      <progress value='1810' max='1810' style='width:300px; height:20px; vertical-align: middle;'></progress>\n",
       "      [1810/1810 10:28, Epoch 10/10]\n",
       "    </div>\n",
       "    <table border=\"1\" class=\"dataframe\">\n",
       "  <thead>\n",
       " <tr style=\"text-align: left;\">\n",
       "      <th>Epoch</th>\n",
       "      <th>Training Loss</th>\n",
       "      <th>Validation Loss</th>\n",
       "    </tr>\n",
       "  </thead>\n",
       "  <tbody>\n",
       "    <tr>\n",
       "      <td>1</td>\n",
       "      <td>No log</td>\n",
       "      <td>0.153121</td>\n",
       "    </tr>\n",
       "    <tr>\n",
       "      <td>2</td>\n",
       "      <td>No log</td>\n",
       "      <td>0.116766</td>\n",
       "    </tr>\n",
       "    <tr>\n",
       "      <td>3</td>\n",
       "      <td>0.138600</td>\n",
       "      <td>0.102843</td>\n",
       "    </tr>\n",
       "    <tr>\n",
       "      <td>4</td>\n",
       "      <td>0.138600</td>\n",
       "      <td>0.098311</td>\n",
       "    </tr>\n",
       "    <tr>\n",
       "      <td>5</td>\n",
       "      <td>0.138600</td>\n",
       "      <td>0.093830</td>\n",
       "    </tr>\n",
       "    <tr>\n",
       "      <td>6</td>\n",
       "      <td>0.032100</td>\n",
       "      <td>0.094455</td>\n",
       "    </tr>\n",
       "    <tr>\n",
       "      <td>7</td>\n",
       "      <td>0.032100</td>\n",
       "      <td>0.096720</td>\n",
       "    </tr>\n",
       "    <tr>\n",
       "      <td>8</td>\n",
       "      <td>0.032100</td>\n",
       "      <td>0.095794</td>\n",
       "    </tr>\n",
       "    <tr>\n",
       "      <td>9</td>\n",
       "      <td>0.013000</td>\n",
       "      <td>0.098763</td>\n",
       "    </tr>\n",
       "    <tr>\n",
       "      <td>10</td>\n",
       "      <td>0.013000</td>\n",
       "      <td>0.099393</td>\n",
       "    </tr>\n",
       "  </tbody>\n",
       "</table><p>"
      ],
      "text/plain": [
       "<IPython.core.display.HTML object>"
      ]
     },
     "metadata": {},
     "output_type": "display_data"
    },
    {
     "data": {
      "text/plain": [
       "TrainOutput(global_step=1810, training_loss=0.05230014982803092, metrics={'train_runtime': 629.7128, 'train_samples_per_second': 22.995, 'train_steps_per_second': 2.874, 'total_flos': 952538986352640.0, 'train_loss': 0.05230014982803092, 'epoch': 10.0})"
      ]
     },
     "execution_count": 6,
     "metadata": {},
     "output_type": "execute_result"
    }
   ],
   "source": [
    "from transformers import TrainingArguments\n",
    "from transformers import Trainer\n",
    "\n",
    "base_output_dir = \"./results\"\n",
    "epoch = 10\n",
    "training_args = TrainingArguments(\n",
    "    output_dir=f\"{base_output_dir}/pretrained/epoch_{epoch}\",           # Directory to save results\n",
    "    evaluation_strategy=\"epoch\",      # Evaluate after each epoch\n",
    "    learning_rate=5e-5,               # Learning rate\n",
    "    per_device_train_batch_size=8,    # Batch size per device (GPU or CPU)\n",
    "    per_device_eval_batch_size=8,     # Batch size for evaluation\n",
    "    num_train_epochs=epoch,               # Number of epochs\n",
    "    logging_dir=\"./logs\",             # Logging directory\n",
    "    save_strategy=\"epoch\"             # Save model after each epoch\n",
    ")\n",
    "\n",
    "trainer = Trainer(\n",
    "    model=model,                      # The model we defined above\n",
    "    args=training_args,               # Training arguments\n",
    "    train_dataset=train_dataset,      # Training dataset\n",
    "    eval_dataset=test_dataset         # Validation dataset\n",
    ")\n",
    "\n",
    "# Train the model\n",
    "trainer.train()"
   ]
  },
  {
   "cell_type": "code",
   "execution_count": 7,
   "metadata": {},
   "outputs": [
    {
     "data": {
      "text/html": [
       "\n",
       "    <div>\n",
       "      \n",
       "      <progress value='1' max='46' style='width:300px; height:20px; vertical-align: middle;'></progress>\n",
       "      [ 1/46 : < :]\n",
       "    </div>\n",
       "    "
      ],
      "text/plain": [
       "<IPython.core.display.HTML object>"
      ]
     },
     "metadata": {},
     "output_type": "display_data"
    },
    {
     "name": "stdout",
     "output_type": "stream",
     "text": [
      "{'eval_loss': 0.09939303994178772, 'eval_runtime': 4.3852, 'eval_samples_per_second': 82.779, 'eval_steps_per_second': 10.49, 'epoch': 10.0}\n"
     ]
    }
   ],
   "source": [
    "# Evaluate the model\n",
    "results = trainer.evaluate()\n",
    "print(results)"
   ]
  },
  {
   "cell_type": "code",
   "execution_count": null,
   "metadata": {},
   "outputs": [
    {
     "data": {
      "text/html": [],
      "text/plain": [
       "<IPython.core.display.HTML object>"
      ]
     },
     "metadata": {},
     "output_type": "display_data"
    },
    {
     "name": "stdout",
     "output_type": "stream",
     "text": [
      "tensor([[0, 0, 0,  ..., 0, 0, 0],\n",
      "        [0, 0, 0,  ..., 0, 0, 0],\n",
      "        [0, 0, 0,  ..., 0, 0, 0],\n",
      "        ...,\n",
      "        [0, 0, 0,  ..., 0, 0, 0],\n",
      "        [0, 0, 0,  ..., 1, 0, 0],\n",
      "        [0, 0, 1,  ..., 0, 0, 0]], dtype=torch.int32)\n"
     ]
    }
   ],
   "source": [
    "# Make predictions\n",
    "predictions = trainer.predict(test_dataset)\n",
    "logits = predictions.predictions\n",
    "\n",
    "# Apply sigmoid activation\n",
    "probs = torch.sigmoid(torch.tensor(logits))\n",
    "\n",
    "# Convert probabilities to binary predictions\n",
    "threshold = 0.5\n",
    "binary_preds = (probs > threshold).int()\n",
    "\n",
    "print(binary_preds)\n"
   ]
  },
  {
   "cell_type": "code",
   "execution_count": null,
   "metadata": {},
   "outputs": [],
   "source": [
    "# Evaluate using metrics\n",
    "from sklearn.metrics import accuracy_score, f1_score, precision_score, recall_score\n",
    "\n",
    "true_labels = predictions.label_ids\n",
    "\n",
    "# Calculate metrics\n",
    "f1 = f1_score(true_labels, binary_preds, average=\"macro\")\n",
    "precision = precision_score(true_labels, binary_preds, average=\"macro\")\n",
    "recall = recall_score(true_labels, binary_preds, average=\"macro\")\n",
    "\n",
    "print(f\"F1 Score: {f1:.4f}, Precision: {precision:.4f}, Recall: {recall:.4f}\")"
   ]
  },
  {
   "cell_type": "code",
   "execution_count": 11,
   "metadata": {},
   "outputs": [
    {
     "data": {
      "text/plain": [
       "('./results/final_model/tokenizer_config.json',\n",
       " './results/final_model/special_tokens_map.json',\n",
       " './results/final_model/vocab.txt',\n",
       " './results/final_model/added_tokens.json')"
      ]
     },
     "execution_count": 11,
     "metadata": {},
     "output_type": "execute_result"
    }
   ],
   "source": [
    "from transformers import Trainer\n",
    "\n",
    "# Assume `trainer` is your trained Trainer object\n",
    "output_dir = \"./results/final_model\"  # Specify the directory where you want to save the model\n",
    "\n",
    "# Save the model, tokenizer, and config\n",
    "trainer.save_model(output_dir)\n",
    "\n",
    "# Save the tokenizer separately\n",
    "tokenizer.save_pretrained(output_dir)"
   ]
  },
  {
   "cell_type": "code",
   "execution_count": 10,
   "metadata": {},
   "outputs": [],
   "source": [
    "import pandas as pd\n",
    "\n",
    "# Read the CSV file into a DataFrame\n",
    "df = pd.read_csv('/home/nana/DASP_report_template/backend/sentences_author.csv')"
   ]
  }
 ],
 "metadata": {
  "kernelspec": {
   "display_name": "model_training",
   "language": "python",
   "name": "python3"
  },
  "language_info": {
   "codemirror_mode": {
    "name": "ipython",
    "version": 3
   },
   "file_extension": ".py",
   "mimetype": "text/x-python",
   "name": "python",
   "nbconvert_exporter": "python",
   "pygments_lexer": "ipython3",
   "version": "3.10.15"
  }
 },
 "nbformat": 4,
 "nbformat_minor": 2
}
